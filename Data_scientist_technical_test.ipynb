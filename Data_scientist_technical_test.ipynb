{
 "cells": [
  {
   "cell_type": "markdown",
   "id": "b5fc8070",
   "metadata": {},
   "source": [
    "# I. Importing libraries"
   ]
  },
  {
   "cell_type": "code",
   "execution_count": 1,
   "id": "61d3a2fd",
   "metadata": {},
   "outputs": [],
   "source": [
    "import numpy as np # linear algebra\n",
    "import pandas as pd # data processing, CSV file I/O (e.g. pd.read_csv)\n",
    "import seaborn as sns # For creating plots\n",
    "import matplotlib.ticker as mtick # For specifying the axes tick format \n",
    "import matplotlib.pyplot as plt\n",
    "sns.set(style = 'white')\n",
    "import os"
   ]
  },
  {
   "cell_type": "markdown",
   "id": "7de2eb5a",
   "metadata": {},
   "source": [
    "# II. Importing the datasets (test and train)"
   ]
  },
  {
   "cell_type": "code",
   "execution_count": 2,
   "id": "7fca1cf5",
   "metadata": {},
   "outputs": [],
   "source": [
    "train=pd.read_csv(r\"/Users/igara/OneDrive/Bureau/auto-insurance-fall-2017/train_auto.csv\")\n",
    "test=pd.read_csv(r\"/Users/igara/OneDrive/Bureau/auto-insurance-fall-2017/test_auto.csv\")"
   ]
  },
  {
   "cell_type": "markdown",
   "id": "f47abe92",
   "metadata": {},
   "source": [
    "# III. Train and test datasets exploration"
   ]
  },
  {
   "cell_type": "code",
   "execution_count": 3,
   "id": "528750c3",
   "metadata": {},
   "outputs": [
    {
     "data": {
      "text/html": [
       "<div>\n",
       "<style scoped>\n",
       "    .dataframe tbody tr th:only-of-type {\n",
       "        vertical-align: middle;\n",
       "    }\n",
       "\n",
       "    .dataframe tbody tr th {\n",
       "        vertical-align: top;\n",
       "    }\n",
       "\n",
       "    .dataframe thead th {\n",
       "        text-align: right;\n",
       "    }\n",
       "</style>\n",
       "<table border=\"1\" class=\"dataframe\">\n",
       "  <thead>\n",
       "    <tr style=\"text-align: right;\">\n",
       "      <th></th>\n",
       "      <th>INDEX</th>\n",
       "      <th>TARGET_FLAG</th>\n",
       "      <th>TARGET_AMT</th>\n",
       "      <th>KIDSDRIV</th>\n",
       "      <th>AGE</th>\n",
       "      <th>HOMEKIDS</th>\n",
       "      <th>YOJ</th>\n",
       "      <th>INCOME</th>\n",
       "      <th>PARENT1</th>\n",
       "      <th>HOME_VAL</th>\n",
       "      <th>...</th>\n",
       "      <th>BLUEBOOK</th>\n",
       "      <th>TIF</th>\n",
       "      <th>CAR_TYPE</th>\n",
       "      <th>RED_CAR</th>\n",
       "      <th>OLDCLAIM</th>\n",
       "      <th>CLM_FREQ</th>\n",
       "      <th>REVOKED</th>\n",
       "      <th>MVR_PTS</th>\n",
       "      <th>CAR_AGE</th>\n",
       "      <th>URBANICITY</th>\n",
       "    </tr>\n",
       "  </thead>\n",
       "  <tbody>\n",
       "    <tr>\n",
       "      <th>0</th>\n",
       "      <td>1</td>\n",
       "      <td>0</td>\n",
       "      <td>0.0</td>\n",
       "      <td>0</td>\n",
       "      <td>60.0</td>\n",
       "      <td>0</td>\n",
       "      <td>11.0</td>\n",
       "      <td>$67,349</td>\n",
       "      <td>No</td>\n",
       "      <td>$0</td>\n",
       "      <td>...</td>\n",
       "      <td>$14,230</td>\n",
       "      <td>11</td>\n",
       "      <td>Minivan</td>\n",
       "      <td>yes</td>\n",
       "      <td>$4,461</td>\n",
       "      <td>2</td>\n",
       "      <td>No</td>\n",
       "      <td>3</td>\n",
       "      <td>18.0</td>\n",
       "      <td>Highly Urban/ Urban</td>\n",
       "    </tr>\n",
       "    <tr>\n",
       "      <th>1</th>\n",
       "      <td>2</td>\n",
       "      <td>0</td>\n",
       "      <td>0.0</td>\n",
       "      <td>0</td>\n",
       "      <td>43.0</td>\n",
       "      <td>0</td>\n",
       "      <td>11.0</td>\n",
       "      <td>$91,449</td>\n",
       "      <td>No</td>\n",
       "      <td>$257,252</td>\n",
       "      <td>...</td>\n",
       "      <td>$14,940</td>\n",
       "      <td>1</td>\n",
       "      <td>Minivan</td>\n",
       "      <td>yes</td>\n",
       "      <td>$0</td>\n",
       "      <td>0</td>\n",
       "      <td>No</td>\n",
       "      <td>0</td>\n",
       "      <td>1.0</td>\n",
       "      <td>Highly Urban/ Urban</td>\n",
       "    </tr>\n",
       "    <tr>\n",
       "      <th>2</th>\n",
       "      <td>4</td>\n",
       "      <td>0</td>\n",
       "      <td>0.0</td>\n",
       "      <td>0</td>\n",
       "      <td>35.0</td>\n",
       "      <td>1</td>\n",
       "      <td>10.0</td>\n",
       "      <td>$16,039</td>\n",
       "      <td>No</td>\n",
       "      <td>$124,191</td>\n",
       "      <td>...</td>\n",
       "      <td>$4,010</td>\n",
       "      <td>4</td>\n",
       "      <td>z_SUV</td>\n",
       "      <td>no</td>\n",
       "      <td>$38,690</td>\n",
       "      <td>2</td>\n",
       "      <td>No</td>\n",
       "      <td>3</td>\n",
       "      <td>10.0</td>\n",
       "      <td>Highly Urban/ Urban</td>\n",
       "    </tr>\n",
       "    <tr>\n",
       "      <th>3</th>\n",
       "      <td>5</td>\n",
       "      <td>0</td>\n",
       "      <td>0.0</td>\n",
       "      <td>0</td>\n",
       "      <td>51.0</td>\n",
       "      <td>0</td>\n",
       "      <td>14.0</td>\n",
       "      <td>NaN</td>\n",
       "      <td>No</td>\n",
       "      <td>$306,251</td>\n",
       "      <td>...</td>\n",
       "      <td>$15,440</td>\n",
       "      <td>7</td>\n",
       "      <td>Minivan</td>\n",
       "      <td>yes</td>\n",
       "      <td>$0</td>\n",
       "      <td>0</td>\n",
       "      <td>No</td>\n",
       "      <td>0</td>\n",
       "      <td>6.0</td>\n",
       "      <td>Highly Urban/ Urban</td>\n",
       "    </tr>\n",
       "    <tr>\n",
       "      <th>4</th>\n",
       "      <td>6</td>\n",
       "      <td>0</td>\n",
       "      <td>0.0</td>\n",
       "      <td>0</td>\n",
       "      <td>50.0</td>\n",
       "      <td>0</td>\n",
       "      <td>NaN</td>\n",
       "      <td>$114,986</td>\n",
       "      <td>No</td>\n",
       "      <td>$243,925</td>\n",
       "      <td>...</td>\n",
       "      <td>$18,000</td>\n",
       "      <td>1</td>\n",
       "      <td>z_SUV</td>\n",
       "      <td>no</td>\n",
       "      <td>$19,217</td>\n",
       "      <td>2</td>\n",
       "      <td>Yes</td>\n",
       "      <td>3</td>\n",
       "      <td>17.0</td>\n",
       "      <td>Highly Urban/ Urban</td>\n",
       "    </tr>\n",
       "  </tbody>\n",
       "</table>\n",
       "<p>5 rows × 26 columns</p>\n",
       "</div>"
      ],
      "text/plain": [
       "   INDEX  TARGET_FLAG  TARGET_AMT  KIDSDRIV   AGE  HOMEKIDS   YOJ    INCOME  \\\n",
       "0      1            0         0.0         0  60.0         0  11.0   $67,349   \n",
       "1      2            0         0.0         0  43.0         0  11.0   $91,449   \n",
       "2      4            0         0.0         0  35.0         1  10.0   $16,039   \n",
       "3      5            0         0.0         0  51.0         0  14.0       NaN   \n",
       "4      6            0         0.0         0  50.0         0   NaN  $114,986   \n",
       "\n",
       "  PARENT1  HOME_VAL  ... BLUEBOOK TIF CAR_TYPE RED_CAR  OLDCLAIM CLM_FREQ  \\\n",
       "0      No        $0  ...  $14,230  11  Minivan     yes    $4,461        2   \n",
       "1      No  $257,252  ...  $14,940   1  Minivan     yes        $0        0   \n",
       "2      No  $124,191  ...   $4,010   4    z_SUV      no   $38,690        2   \n",
       "3      No  $306,251  ...  $15,440   7  Minivan     yes        $0        0   \n",
       "4      No  $243,925  ...  $18,000   1    z_SUV      no   $19,217        2   \n",
       "\n",
       "  REVOKED  MVR_PTS CAR_AGE           URBANICITY  \n",
       "0      No        3    18.0  Highly Urban/ Urban  \n",
       "1      No        0     1.0  Highly Urban/ Urban  \n",
       "2      No        3    10.0  Highly Urban/ Urban  \n",
       "3      No        0     6.0  Highly Urban/ Urban  \n",
       "4     Yes        3    17.0  Highly Urban/ Urban  \n",
       "\n",
       "[5 rows x 26 columns]"
      ]
     },
     "execution_count": 3,
     "metadata": {},
     "output_type": "execute_result"
    }
   ],
   "source": [
    "train.head()"
   ]
  },
  {
   "cell_type": "code",
   "execution_count": 4,
   "id": "bf5b28e5",
   "metadata": {},
   "outputs": [
    {
     "data": {
      "text/html": [
       "<div>\n",
       "<style scoped>\n",
       "    .dataframe tbody tr th:only-of-type {\n",
       "        vertical-align: middle;\n",
       "    }\n",
       "\n",
       "    .dataframe tbody tr th {\n",
       "        vertical-align: top;\n",
       "    }\n",
       "\n",
       "    .dataframe thead th {\n",
       "        text-align: right;\n",
       "    }\n",
       "</style>\n",
       "<table border=\"1\" class=\"dataframe\">\n",
       "  <thead>\n",
       "    <tr style=\"text-align: right;\">\n",
       "      <th></th>\n",
       "      <th>INDEX</th>\n",
       "      <th>TARGET_FLAG</th>\n",
       "      <th>TARGET_AMT</th>\n",
       "      <th>KIDSDRIV</th>\n",
       "      <th>AGE</th>\n",
       "      <th>HOMEKIDS</th>\n",
       "      <th>YOJ</th>\n",
       "      <th>INCOME</th>\n",
       "      <th>PARENT1</th>\n",
       "      <th>HOME_VAL</th>\n",
       "      <th>...</th>\n",
       "      <th>BLUEBOOK</th>\n",
       "      <th>TIF</th>\n",
       "      <th>CAR_TYPE</th>\n",
       "      <th>RED_CAR</th>\n",
       "      <th>OLDCLAIM</th>\n",
       "      <th>CLM_FREQ</th>\n",
       "      <th>REVOKED</th>\n",
       "      <th>MVR_PTS</th>\n",
       "      <th>CAR_AGE</th>\n",
       "      <th>URBANICITY</th>\n",
       "    </tr>\n",
       "  </thead>\n",
       "  <tbody>\n",
       "    <tr>\n",
       "      <th>0</th>\n",
       "      <td>3</td>\n",
       "      <td>NaN</td>\n",
       "      <td>NaN</td>\n",
       "      <td>0</td>\n",
       "      <td>48.0</td>\n",
       "      <td>0</td>\n",
       "      <td>11.0</td>\n",
       "      <td>$52,881</td>\n",
       "      <td>No</td>\n",
       "      <td>$0</td>\n",
       "      <td>...</td>\n",
       "      <td>$21,970</td>\n",
       "      <td>1</td>\n",
       "      <td>Van</td>\n",
       "      <td>yes</td>\n",
       "      <td>$0</td>\n",
       "      <td>0</td>\n",
       "      <td>No</td>\n",
       "      <td>2</td>\n",
       "      <td>10.0</td>\n",
       "      <td>Highly Urban/ Urban</td>\n",
       "    </tr>\n",
       "    <tr>\n",
       "      <th>1</th>\n",
       "      <td>9</td>\n",
       "      <td>NaN</td>\n",
       "      <td>NaN</td>\n",
       "      <td>1</td>\n",
       "      <td>40.0</td>\n",
       "      <td>1</td>\n",
       "      <td>11.0</td>\n",
       "      <td>$50,815</td>\n",
       "      <td>Yes</td>\n",
       "      <td>$0</td>\n",
       "      <td>...</td>\n",
       "      <td>$18,930</td>\n",
       "      <td>6</td>\n",
       "      <td>Minivan</td>\n",
       "      <td>no</td>\n",
       "      <td>$3,295</td>\n",
       "      <td>1</td>\n",
       "      <td>No</td>\n",
       "      <td>2</td>\n",
       "      <td>1.0</td>\n",
       "      <td>Highly Urban/ Urban</td>\n",
       "    </tr>\n",
       "    <tr>\n",
       "      <th>2</th>\n",
       "      <td>10</td>\n",
       "      <td>NaN</td>\n",
       "      <td>NaN</td>\n",
       "      <td>0</td>\n",
       "      <td>44.0</td>\n",
       "      <td>2</td>\n",
       "      <td>12.0</td>\n",
       "      <td>$43,486</td>\n",
       "      <td>Yes</td>\n",
       "      <td>$0</td>\n",
       "      <td>...</td>\n",
       "      <td>$5,900</td>\n",
       "      <td>10</td>\n",
       "      <td>z_SUV</td>\n",
       "      <td>no</td>\n",
       "      <td>$0</td>\n",
       "      <td>0</td>\n",
       "      <td>No</td>\n",
       "      <td>0</td>\n",
       "      <td>10.0</td>\n",
       "      <td>z_Highly Rural/ Rural</td>\n",
       "    </tr>\n",
       "    <tr>\n",
       "      <th>3</th>\n",
       "      <td>18</td>\n",
       "      <td>NaN</td>\n",
       "      <td>NaN</td>\n",
       "      <td>0</td>\n",
       "      <td>35.0</td>\n",
       "      <td>2</td>\n",
       "      <td>NaN</td>\n",
       "      <td>$21,204</td>\n",
       "      <td>Yes</td>\n",
       "      <td>$0</td>\n",
       "      <td>...</td>\n",
       "      <td>$9,230</td>\n",
       "      <td>6</td>\n",
       "      <td>Pickup</td>\n",
       "      <td>no</td>\n",
       "      <td>$0</td>\n",
       "      <td>0</td>\n",
       "      <td>Yes</td>\n",
       "      <td>0</td>\n",
       "      <td>4.0</td>\n",
       "      <td>z_Highly Rural/ Rural</td>\n",
       "    </tr>\n",
       "    <tr>\n",
       "      <th>4</th>\n",
       "      <td>21</td>\n",
       "      <td>NaN</td>\n",
       "      <td>NaN</td>\n",
       "      <td>0</td>\n",
       "      <td>59.0</td>\n",
       "      <td>0</td>\n",
       "      <td>12.0</td>\n",
       "      <td>$87,460</td>\n",
       "      <td>No</td>\n",
       "      <td>$0</td>\n",
       "      <td>...</td>\n",
       "      <td>$15,420</td>\n",
       "      <td>1</td>\n",
       "      <td>Minivan</td>\n",
       "      <td>yes</td>\n",
       "      <td>$44,857</td>\n",
       "      <td>2</td>\n",
       "      <td>No</td>\n",
       "      <td>4</td>\n",
       "      <td>1.0</td>\n",
       "      <td>Highly Urban/ Urban</td>\n",
       "    </tr>\n",
       "  </tbody>\n",
       "</table>\n",
       "<p>5 rows × 26 columns</p>\n",
       "</div>"
      ],
      "text/plain": [
       "   INDEX  TARGET_FLAG  TARGET_AMT  KIDSDRIV   AGE  HOMEKIDS   YOJ   INCOME  \\\n",
       "0      3          NaN         NaN         0  48.0         0  11.0  $52,881   \n",
       "1      9          NaN         NaN         1  40.0         1  11.0  $50,815   \n",
       "2     10          NaN         NaN         0  44.0         2  12.0  $43,486   \n",
       "3     18          NaN         NaN         0  35.0         2   NaN  $21,204   \n",
       "4     21          NaN         NaN         0  59.0         0  12.0  $87,460   \n",
       "\n",
       "  PARENT1 HOME_VAL  ... BLUEBOOK TIF CAR_TYPE RED_CAR  OLDCLAIM CLM_FREQ  \\\n",
       "0      No       $0  ...  $21,970   1      Van     yes        $0        0   \n",
       "1     Yes       $0  ...  $18,930   6  Minivan      no    $3,295        1   \n",
       "2     Yes       $0  ...   $5,900  10    z_SUV      no        $0        0   \n",
       "3     Yes       $0  ...   $9,230   6   Pickup      no        $0        0   \n",
       "4      No       $0  ...  $15,420   1  Minivan     yes   $44,857        2   \n",
       "\n",
       "  REVOKED  MVR_PTS CAR_AGE             URBANICITY  \n",
       "0      No        2    10.0    Highly Urban/ Urban  \n",
       "1      No        2     1.0    Highly Urban/ Urban  \n",
       "2      No        0    10.0  z_Highly Rural/ Rural  \n",
       "3     Yes        0     4.0  z_Highly Rural/ Rural  \n",
       "4      No        4     1.0    Highly Urban/ Urban  \n",
       "\n",
       "[5 rows x 26 columns]"
      ]
     },
     "execution_count": 4,
     "metadata": {},
     "output_type": "execute_result"
    }
   ],
   "source": [
    "test.head()"
   ]
  },
  {
   "cell_type": "code",
   "execution_count": 5,
   "id": "66b3cd11",
   "metadata": {},
   "outputs": [
    {
     "data": {
      "text/plain": [
       "Index(['INDEX', 'TARGET_FLAG', 'TARGET_AMT', 'KIDSDRIV', 'AGE', 'HOMEKIDS',\n",
       "       'YOJ', 'INCOME', 'PARENT1', 'HOME_VAL', 'MSTATUS', 'SEX', 'EDUCATION',\n",
       "       'JOB', 'TRAVTIME', 'CAR_USE', 'BLUEBOOK', 'TIF', 'CAR_TYPE', 'RED_CAR',\n",
       "       'OLDCLAIM', 'CLM_FREQ', 'REVOKED', 'MVR_PTS', 'CAR_AGE', 'URBANICITY'],\n",
       "      dtype='object')"
      ]
     },
     "execution_count": 5,
     "metadata": {},
     "output_type": "execute_result"
    }
   ],
   "source": [
    "train.columns"
   ]
  },
  {
   "cell_type": "code",
   "execution_count": 6,
   "id": "16618dca",
   "metadata": {},
   "outputs": [
    {
     "data": {
      "text/plain": [
       "Index(['INDEX', 'TARGET_FLAG', 'TARGET_AMT', 'KIDSDRIV', 'AGE', 'HOMEKIDS',\n",
       "       'YOJ', 'INCOME', 'PARENT1', 'HOME_VAL', 'MSTATUS', 'SEX', 'EDUCATION',\n",
       "       'JOB', 'TRAVTIME', 'CAR_USE', 'BLUEBOOK', 'TIF', 'CAR_TYPE', 'RED_CAR',\n",
       "       'OLDCLAIM', 'CLM_FREQ', 'REVOKED', 'MVR_PTS', 'CAR_AGE', 'URBANICITY'],\n",
       "      dtype='object')"
      ]
     },
     "execution_count": 6,
     "metadata": {},
     "output_type": "execute_result"
    }
   ],
   "source": [
    "test.columns"
   ]
  },
  {
   "cell_type": "markdown",
   "id": "f68da42d",
   "metadata": {},
   "source": [
    "###### The train dataset has 26 columns. "
   ]
  },
  {
   "cell_type": "code",
   "execution_count": 7,
   "id": "2361cdf9",
   "metadata": {},
   "outputs": [
    {
     "data": {
      "text/html": [
       "<div>\n",
       "<style scoped>\n",
       "    .dataframe tbody tr th:only-of-type {\n",
       "        vertical-align: middle;\n",
       "    }\n",
       "\n",
       "    .dataframe tbody tr th {\n",
       "        vertical-align: top;\n",
       "    }\n",
       "\n",
       "    .dataframe thead th {\n",
       "        text-align: right;\n",
       "    }\n",
       "</style>\n",
       "<table border=\"1\" class=\"dataframe\">\n",
       "  <thead>\n",
       "    <tr style=\"text-align: right;\">\n",
       "      <th></th>\n",
       "      <th>INDEX</th>\n",
       "      <th>TARGET_FLAG</th>\n",
       "      <th>TARGET_AMT</th>\n",
       "      <th>KIDSDRIV</th>\n",
       "      <th>AGE</th>\n",
       "      <th>HOMEKIDS</th>\n",
       "      <th>YOJ</th>\n",
       "      <th>TRAVTIME</th>\n",
       "      <th>TIF</th>\n",
       "      <th>CLM_FREQ</th>\n",
       "      <th>MVR_PTS</th>\n",
       "      <th>CAR_AGE</th>\n",
       "    </tr>\n",
       "  </thead>\n",
       "  <tbody>\n",
       "    <tr>\n",
       "      <th>count</th>\n",
       "      <td>8161.000000</td>\n",
       "      <td>8161.000000</td>\n",
       "      <td>8161.000000</td>\n",
       "      <td>8161.000000</td>\n",
       "      <td>8155.000000</td>\n",
       "      <td>8161.000000</td>\n",
       "      <td>7707.000000</td>\n",
       "      <td>8161.000000</td>\n",
       "      <td>8161.000000</td>\n",
       "      <td>8161.000000</td>\n",
       "      <td>8161.000000</td>\n",
       "      <td>7651.000000</td>\n",
       "    </tr>\n",
       "    <tr>\n",
       "      <th>mean</th>\n",
       "      <td>5151.867663</td>\n",
       "      <td>0.263816</td>\n",
       "      <td>1504.324648</td>\n",
       "      <td>0.171057</td>\n",
       "      <td>44.790313</td>\n",
       "      <td>0.721235</td>\n",
       "      <td>10.499286</td>\n",
       "      <td>33.485725</td>\n",
       "      <td>5.351305</td>\n",
       "      <td>0.798554</td>\n",
       "      <td>1.695503</td>\n",
       "      <td>8.328323</td>\n",
       "    </tr>\n",
       "    <tr>\n",
       "      <th>std</th>\n",
       "      <td>2978.893962</td>\n",
       "      <td>0.440728</td>\n",
       "      <td>4704.026930</td>\n",
       "      <td>0.511534</td>\n",
       "      <td>8.627589</td>\n",
       "      <td>1.116323</td>\n",
       "      <td>4.092474</td>\n",
       "      <td>15.908333</td>\n",
       "      <td>4.146635</td>\n",
       "      <td>1.158453</td>\n",
       "      <td>2.147112</td>\n",
       "      <td>5.700742</td>\n",
       "    </tr>\n",
       "    <tr>\n",
       "      <th>min</th>\n",
       "      <td>1.000000</td>\n",
       "      <td>0.000000</td>\n",
       "      <td>0.000000</td>\n",
       "      <td>0.000000</td>\n",
       "      <td>16.000000</td>\n",
       "      <td>0.000000</td>\n",
       "      <td>0.000000</td>\n",
       "      <td>5.000000</td>\n",
       "      <td>1.000000</td>\n",
       "      <td>0.000000</td>\n",
       "      <td>0.000000</td>\n",
       "      <td>-3.000000</td>\n",
       "    </tr>\n",
       "    <tr>\n",
       "      <th>25%</th>\n",
       "      <td>2559.000000</td>\n",
       "      <td>0.000000</td>\n",
       "      <td>0.000000</td>\n",
       "      <td>0.000000</td>\n",
       "      <td>39.000000</td>\n",
       "      <td>0.000000</td>\n",
       "      <td>9.000000</td>\n",
       "      <td>22.000000</td>\n",
       "      <td>1.000000</td>\n",
       "      <td>0.000000</td>\n",
       "      <td>0.000000</td>\n",
       "      <td>1.000000</td>\n",
       "    </tr>\n",
       "    <tr>\n",
       "      <th>50%</th>\n",
       "      <td>5133.000000</td>\n",
       "      <td>0.000000</td>\n",
       "      <td>0.000000</td>\n",
       "      <td>0.000000</td>\n",
       "      <td>45.000000</td>\n",
       "      <td>0.000000</td>\n",
       "      <td>11.000000</td>\n",
       "      <td>33.000000</td>\n",
       "      <td>4.000000</td>\n",
       "      <td>0.000000</td>\n",
       "      <td>1.000000</td>\n",
       "      <td>8.000000</td>\n",
       "    </tr>\n",
       "    <tr>\n",
       "      <th>75%</th>\n",
       "      <td>7745.000000</td>\n",
       "      <td>1.000000</td>\n",
       "      <td>1036.000000</td>\n",
       "      <td>0.000000</td>\n",
       "      <td>51.000000</td>\n",
       "      <td>1.000000</td>\n",
       "      <td>13.000000</td>\n",
       "      <td>44.000000</td>\n",
       "      <td>7.000000</td>\n",
       "      <td>2.000000</td>\n",
       "      <td>3.000000</td>\n",
       "      <td>12.000000</td>\n",
       "    </tr>\n",
       "    <tr>\n",
       "      <th>max</th>\n",
       "      <td>10302.000000</td>\n",
       "      <td>1.000000</td>\n",
       "      <td>107586.136160</td>\n",
       "      <td>4.000000</td>\n",
       "      <td>81.000000</td>\n",
       "      <td>5.000000</td>\n",
       "      <td>23.000000</td>\n",
       "      <td>142.000000</td>\n",
       "      <td>25.000000</td>\n",
       "      <td>5.000000</td>\n",
       "      <td>13.000000</td>\n",
       "      <td>28.000000</td>\n",
       "    </tr>\n",
       "  </tbody>\n",
       "</table>\n",
       "</div>"
      ],
      "text/plain": [
       "              INDEX  TARGET_FLAG     TARGET_AMT     KIDSDRIV          AGE  \\\n",
       "count   8161.000000  8161.000000    8161.000000  8161.000000  8155.000000   \n",
       "mean    5151.867663     0.263816    1504.324648     0.171057    44.790313   \n",
       "std     2978.893962     0.440728    4704.026930     0.511534     8.627589   \n",
       "min        1.000000     0.000000       0.000000     0.000000    16.000000   \n",
       "25%     2559.000000     0.000000       0.000000     0.000000    39.000000   \n",
       "50%     5133.000000     0.000000       0.000000     0.000000    45.000000   \n",
       "75%     7745.000000     1.000000    1036.000000     0.000000    51.000000   \n",
       "max    10302.000000     1.000000  107586.136160     4.000000    81.000000   \n",
       "\n",
       "          HOMEKIDS          YOJ     TRAVTIME          TIF     CLM_FREQ  \\\n",
       "count  8161.000000  7707.000000  8161.000000  8161.000000  8161.000000   \n",
       "mean      0.721235    10.499286    33.485725     5.351305     0.798554   \n",
       "std       1.116323     4.092474    15.908333     4.146635     1.158453   \n",
       "min       0.000000     0.000000     5.000000     1.000000     0.000000   \n",
       "25%       0.000000     9.000000    22.000000     1.000000     0.000000   \n",
       "50%       0.000000    11.000000    33.000000     4.000000     0.000000   \n",
       "75%       1.000000    13.000000    44.000000     7.000000     2.000000   \n",
       "max       5.000000    23.000000   142.000000    25.000000     5.000000   \n",
       "\n",
       "           MVR_PTS      CAR_AGE  \n",
       "count  8161.000000  7651.000000  \n",
       "mean      1.695503     8.328323  \n",
       "std       2.147112     5.700742  \n",
       "min       0.000000    -3.000000  \n",
       "25%       0.000000     1.000000  \n",
       "50%       1.000000     8.000000  \n",
       "75%       3.000000    12.000000  \n",
       "max      13.000000    28.000000  "
      ]
     },
     "execution_count": 7,
     "metadata": {},
     "output_type": "execute_result"
    }
   ],
   "source": [
    "train.describe()"
   ]
  },
  {
   "cell_type": "code",
   "execution_count": 8,
   "id": "2e1a3285",
   "metadata": {},
   "outputs": [
    {
     "data": {
      "text/plain": [
       "INDEX            int64\n",
       "TARGET_FLAG      int64\n",
       "TARGET_AMT     float64\n",
       "KIDSDRIV         int64\n",
       "AGE            float64\n",
       "HOMEKIDS         int64\n",
       "YOJ            float64\n",
       "INCOME          object\n",
       "PARENT1         object\n",
       "HOME_VAL        object\n",
       "MSTATUS         object\n",
       "SEX             object\n",
       "EDUCATION       object\n",
       "JOB             object\n",
       "TRAVTIME         int64\n",
       "CAR_USE         object\n",
       "BLUEBOOK        object\n",
       "TIF              int64\n",
       "CAR_TYPE        object\n",
       "RED_CAR         object\n",
       "OLDCLAIM        object\n",
       "CLM_FREQ         int64\n",
       "REVOKED         object\n",
       "MVR_PTS          int64\n",
       "CAR_AGE        float64\n",
       "URBANICITY      object\n",
       "dtype: object"
      ]
     },
     "execution_count": 8,
     "metadata": {},
     "output_type": "execute_result"
    }
   ],
   "source": [
    "train.dtypes"
   ]
  },
  {
   "cell_type": "markdown",
   "id": "fa4711bb",
   "metadata": {},
   "source": [
    "## 1. Formatting the variables"
   ]
  },
  {
   "cell_type": "code",
   "execution_count": 9,
   "id": "31880514",
   "metadata": {},
   "outputs": [],
   "source": [
    "# converting the variables INCOME, HOME_VAL, BLUEBOOK, OLDCLAIM to a float variable in the test and train databases \n",
    "#(dropping the \"$\")\n",
    "\n",
    "#INCOME\n",
    "train['INCOME']=train['INCOME'].replace('\\$','',regex=True)\n",
    "train['INCOME']=train['INCOME'].replace('\\,','.',regex=True).astype(float)\n",
    "#HOME_VAL\n",
    "train['HOME_VAL']=train['HOME_VAL'].replace('\\$','',regex=True)\n",
    "train['HOME_VAL']=train['HOME_VAL'].replace('\\,','.',regex=True).astype(float)\n",
    "#BLUEBOOK\n",
    "train['BLUEBOOK']=train['BLUEBOOK'].replace('\\$','',regex=True)\n",
    "train['BLUEBOOK']=train['BLUEBOOK'].replace('\\,','.',regex=True).astype(float)\n",
    "#OLDCLAIM\n",
    "train['OLDCLAIM']=train['OLDCLAIM'].replace('\\$','',regex=True)\n",
    "train['OLDCLAIM']=train['OLDCLAIM'].replace('\\,','.',regex=True).astype(float)\n",
    "\n",
    "\n",
    "\n",
    "#INCOME\n",
    "test['INCOME']=test['INCOME'].replace('\\$','',regex=True)\n",
    "test['INCOME']=test['INCOME'].replace('\\,','.',regex=True).astype(float)\n",
    "#HOME_VAL\n",
    "test['HOME_VAL']=test['HOME_VAL'].replace('\\$','',regex=True)\n",
    "test['HOME_VAL']=test['HOME_VAL'].replace('\\,','.',regex=True).astype(float)\n",
    "#BLUEBOOK\n",
    "test['BLUEBOOK']=test['BLUEBOOK'].replace('\\$','',regex=True)\n",
    "test['BLUEBOOK']=test['BLUEBOOK'].replace('\\,','.',regex=True).astype(float)\n",
    "#OLDCLAIM\n",
    "test['OLDCLAIM']=test['OLDCLAIM'].replace('\\$','',regex=True)\n",
    "test['OLDCLAIM']=test['OLDCLAIM'].replace('\\,','.',regex=True).astype(float)\n",
    "\n"
   ]
  },
  {
   "cell_type": "code",
   "execution_count": 10,
   "id": "76c162b5",
   "metadata": {},
   "outputs": [],
   "source": [
    "#converting the variables PARENT1 / REVOKED / RED_CAR to a numeric in the train and test databases\n",
    "train['RED_CAR']= train['RED_CAR'].replace(['yes','no'],[1,0])\n",
    "train['PARENT1']= train['PARENT1'].replace(['Yes','No'],[1,0])\n",
    "train['REVOKED']= train['REVOKED'].replace(['Yes','No'],[1,0])\n",
    "\n",
    "test['RED_CAR']= test['RED_CAR'].replace(['yes','no'],[1,0])\n",
    "test['PARENT1']= test['PARENT1'].replace(['Yes','No'],[1,0])\n",
    "test['REVOKED']= test['REVOKED'].replace(['Yes','No'],[1,0])\n"
   ]
  },
  {
   "cell_type": "code",
   "execution_count": 11,
   "id": "5834903c",
   "metadata": {
    "scrolled": true
   },
   "outputs": [],
   "source": [
    "# formatting the variables MSTATUS, SEX, EDUCATION, JOB,  CARTYPE ( remove the z_)\n",
    "\n",
    "\n",
    "#MSTATUS\n",
    "train['MSTATUS']=train['MSTATUS'].replace('z_','',regex=True)\n",
    "#SEX\n",
    "train['SEX']=train['SEX'].replace('z_','',regex=True)\n",
    "#EDUCATION\n",
    "train['EDUCATION']=train['EDUCATION'].replace('z_','',regex=True)\n",
    "#JOB\n",
    "train['JOB']=train['JOB'].replace('z_','',regex=True)\n",
    "#CARTYPE\n",
    "train['CAR_TYPE']=train['CAR_TYPE'].replace('z_','',regex=True)\n",
    "#URBANICITY\n",
    "train['URBANICITY']=train['URBANICITY'].replace('z_','',regex=True)\n",
    "\n",
    "\n",
    "#MSTATUS\n",
    "test['MSTATUS']=test['MSTATUS'].replace('z_','',regex=True)\n",
    "#SEX\n",
    "test['SEX']=test['SEX'].replace('z_','',regex=True)\n",
    "#EDUCATION\n",
    "test['EDUCATION']=test['EDUCATION'].replace('z_','',regex=True)\n",
    "#JOB\n",
    "test['JOB']=test['JOB'].replace('z_','',regex=True)\n",
    "#CARTYPE\n",
    "test['CAR_TYPE']=test['CAR_TYPE'].replace('z_','',regex=True)\n",
    "#URBANICITY\n",
    "test['URBANICITY']=test['URBANICITY'].replace('z_','',regex=True)\n",
    "\n"
   ]
  },
  {
   "cell_type": "code",
   "execution_count": 12,
   "id": "e4335eab",
   "metadata": {},
   "outputs": [],
   "source": [
    "#converting MSTATUS to a numeric variable (1=Yes and 0=No)\n",
    "#converting SEX to a numeric variable (1=Male and 2=Female)\n",
    "\n",
    "train['MSTATUS']= train['MSTATUS'].replace(['Yes','No'],[1,0])\n",
    "train['SEX']= train['SEX'].replace(['M','F'],[1,2])\n",
    "\n",
    "test['MSTATUS']= test['MSTATUS'].replace(['Yes','No'],[1,0])\n",
    "test['SEX']= test['SEX'].replace(['M','F'],[1,2])"
   ]
  },
  {
   "cell_type": "markdown",
   "id": "a03246e1",
   "metadata": {},
   "source": [
    "Now we will explore the modalities of the categorical variables"
   ]
  },
  {
   "cell_type": "code",
   "execution_count": 13,
   "id": "b6f2939e",
   "metadata": {},
   "outputs": [
    {
     "data": {
      "text/plain": [
       "array(['PhD', 'High School', '<High School', 'Bachelors', 'Masters'],\n",
       "      dtype=object)"
      ]
     },
     "execution_count": 13,
     "metadata": {},
     "output_type": "execute_result"
    }
   ],
   "source": [
    "train[\"EDUCATION\"].unique()"
   ]
  },
  {
   "cell_type": "code",
   "execution_count": 14,
   "id": "6323d043",
   "metadata": {},
   "outputs": [
    {
     "data": {
      "text/plain": [
       "array(['Professional', 'Blue Collar', 'Clerical', 'Doctor', 'Lawyer',\n",
       "       'Manager', nan, 'Home Maker', 'Student'], dtype=object)"
      ]
     },
     "execution_count": 14,
     "metadata": {},
     "output_type": "execute_result"
    }
   ],
   "source": [
    "train[\"JOB\"].unique()"
   ]
  },
  {
   "cell_type": "code",
   "execution_count": 15,
   "id": "7aae0cf9",
   "metadata": {},
   "outputs": [
    {
     "data": {
      "text/plain": [
       "array(['Highly Urban/ Urban', 'Highly Rural/ Rural'], dtype=object)"
      ]
     },
     "execution_count": 15,
     "metadata": {},
     "output_type": "execute_result"
    }
   ],
   "source": [
    "train[\"URBANICITY\"].unique()"
   ]
  },
  {
   "cell_type": "code",
   "execution_count": 16,
   "id": "1e6f0064",
   "metadata": {},
   "outputs": [
    {
     "data": {
      "text/plain": [
       "array(['Minivan', 'SUV', 'Sports Car', 'Van', 'Panel Truck', 'Pickup'],\n",
       "      dtype=object)"
      ]
     },
     "execution_count": 16,
     "metadata": {},
     "output_type": "execute_result"
    }
   ],
   "source": [
    "train[\"CAR_TYPE\"].unique()"
   ]
  },
  {
   "cell_type": "code",
   "execution_count": 17,
   "id": "85ebddb9",
   "metadata": {},
   "outputs": [
    {
     "data": {
      "text/plain": [
       "count    8161.000000\n",
       "mean        0.263816\n",
       "std         0.440728\n",
       "min         0.000000\n",
       "25%         0.000000\n",
       "50%         0.000000\n",
       "75%         1.000000\n",
       "max         1.000000\n",
       "Name: TARGET_FLAG, dtype: float64"
      ]
     },
     "execution_count": 17,
     "metadata": {},
     "output_type": "execute_result"
    }
   ],
   "source": [
    "train['TARGET_FLAG'].describe()"
   ]
  },
  {
   "cell_type": "markdown",
   "id": "ef9d36fb",
   "metadata": {},
   "source": [
    "## 2. Missing values"
   ]
  },
  {
   "cell_type": "markdown",
   "id": "3b2506ff",
   "metadata": {},
   "source": [
    "##### Train dataset"
   ]
  },
  {
   "cell_type": "code",
   "execution_count": 18,
   "id": "efa6cda9",
   "metadata": {},
   "outputs": [
    {
     "data": {
      "text/plain": [
       "INDEX            0\n",
       "TARGET_FLAG      0\n",
       "TARGET_AMT       0\n",
       "KIDSDRIV         0\n",
       "AGE              6\n",
       "HOMEKIDS         0\n",
       "YOJ            454\n",
       "INCOME         445\n",
       "PARENT1          0\n",
       "HOME_VAL       464\n",
       "MSTATUS          0\n",
       "SEX              0\n",
       "EDUCATION        0\n",
       "JOB            526\n",
       "TRAVTIME         0\n",
       "CAR_USE          0\n",
       "BLUEBOOK         0\n",
       "TIF              0\n",
       "CAR_TYPE         0\n",
       "RED_CAR          0\n",
       "OLDCLAIM         0\n",
       "CLM_FREQ         0\n",
       "REVOKED          0\n",
       "MVR_PTS          0\n",
       "CAR_AGE        510\n",
       "URBANICITY       0\n",
       "dtype: int64"
      ]
     },
     "execution_count": 18,
     "metadata": {},
     "output_type": "execute_result"
    }
   ],
   "source": [
    "train.isnull().sum()"
   ]
  },
  {
   "cell_type": "markdown",
   "id": "417ef14e",
   "metadata": {},
   "source": [
    " YOJ contains 454 missing values\n",
    " \n",
    " INCOME contains 445 missing values\n",
    " \n",
    " JOB contains 526 missing values\n",
    " \n",
    " CAR_AGE contains 510 missing values\n",
    " \n",
    " =>Missing values in numerical columns will be replaced with the mean of the column"
   ]
  },
  {
   "cell_type": "code",
   "execution_count": 19,
   "id": "145adc60",
   "metadata": {},
   "outputs": [],
   "source": [
    "# replacing YOJ missing values with the mean of the column\n",
    "\n",
    "avg_YOJ = train[\"YOJ\"].astype(\"float\").mean(axis=0)\n",
    "train[\"YOJ\"].replace(np.nan, avg_YOJ, inplace=True)\n",
    "\n",
    "# replacing INCOME missing values with the mean of the column\n",
    "\n",
    "avg_INCOME = train[\"INCOME\"].astype(\"float\").mean(axis=0)\n",
    "train[\"INCOME\"].replace(np.nan, avg_INCOME, inplace=True)\n",
    "\n",
    "# replacing HOME_VAL missing values with the mean of the column\n",
    "\n",
    "avg_HOME_VAL = train[\"HOME_VAL\"].astype(\"float\").mean(axis=0)\n",
    "train[\"HOME_VAL\"].replace(np.nan, avg_HOME_VAL, inplace=True)\n",
    "\n",
    "# replacing CAR_AGE missing values with the mean of the column\n",
    "\n",
    "avg_CAR_AGE = train[\"CAR_AGE\"].astype(\"float\").mean(axis=0)\n",
    "train[\"CAR_AGE\"].replace(np.nan, avg_CAR_AGE, inplace=True)\n",
    "\n",
    "\n",
    "# replacing AGE missing values with the mean of the column\n",
    "\n",
    "avg_AGE = train[\"AGE\"].astype(\"float\").mean(axis=0)\n",
    "train[\"AGE\"].replace(np.nan, avg_AGE, inplace=True)\n",
    "\n"
   ]
  },
  {
   "cell_type": "code",
   "execution_count": 20,
   "id": "4295c963",
   "metadata": {},
   "outputs": [
    {
     "data": {
      "text/plain": [
       "INDEX            0\n",
       "TARGET_FLAG      0\n",
       "TARGET_AMT       0\n",
       "KIDSDRIV         0\n",
       "AGE              0\n",
       "HOMEKIDS         0\n",
       "YOJ              0\n",
       "INCOME           0\n",
       "PARENT1          0\n",
       "HOME_VAL         0\n",
       "MSTATUS          0\n",
       "SEX              0\n",
       "EDUCATION        0\n",
       "JOB            526\n",
       "TRAVTIME         0\n",
       "CAR_USE          0\n",
       "BLUEBOOK         0\n",
       "TIF              0\n",
       "CAR_TYPE         0\n",
       "RED_CAR          0\n",
       "OLDCLAIM         0\n",
       "CLM_FREQ         0\n",
       "REVOKED          0\n",
       "MVR_PTS          0\n",
       "CAR_AGE          0\n",
       "URBANICITY       0\n",
       "dtype: int64"
      ]
     },
     "execution_count": 20,
     "metadata": {},
     "output_type": "execute_result"
    }
   ],
   "source": [
    "train.isnull().sum()"
   ]
  },
  {
   "cell_type": "markdown",
   "id": "55c4c9f4",
   "metadata": {},
   "source": [
    "JOB column still have missing values. It is a categorical variable. It will be treated lately in the code."
   ]
  },
  {
   "cell_type": "markdown",
   "id": "aaf90b40",
   "metadata": {},
   "source": [
    "###### Test dataset"
   ]
  },
  {
   "cell_type": "code",
   "execution_count": 21,
   "id": "b2f88b09",
   "metadata": {},
   "outputs": [
    {
     "data": {
      "text/plain": [
       "INDEX             0\n",
       "TARGET_FLAG    2141\n",
       "TARGET_AMT     2141\n",
       "KIDSDRIV          0\n",
       "AGE               1\n",
       "HOMEKIDS          0\n",
       "YOJ              94\n",
       "INCOME          125\n",
       "PARENT1           0\n",
       "HOME_VAL        111\n",
       "MSTATUS           0\n",
       "SEX               0\n",
       "EDUCATION         0\n",
       "JOB             139\n",
       "TRAVTIME          0\n",
       "CAR_USE           0\n",
       "BLUEBOOK          0\n",
       "TIF               0\n",
       "CAR_TYPE          0\n",
       "RED_CAR           0\n",
       "OLDCLAIM          0\n",
       "CLM_FREQ          0\n",
       "REVOKED           0\n",
       "MVR_PTS           0\n",
       "CAR_AGE         129\n",
       "URBANICITY        0\n",
       "dtype: int64"
      ]
     },
     "execution_count": 21,
     "metadata": {},
     "output_type": "execute_result"
    }
   ],
   "source": [
    "test.isnull().sum()"
   ]
  },
  {
   "cell_type": "markdown",
   "id": "372a62e1",
   "metadata": {},
   "source": [
    "Missing values will be replaced with the mean of the numerical column."
   ]
  },
  {
   "cell_type": "code",
   "execution_count": 22,
   "id": "46125d17",
   "metadata": {},
   "outputs": [],
   "source": [
    "# replacing YOJ missing values with the mean of the column\n",
    "\n",
    "avg_YOJ = test[\"YOJ\"].astype(\"float\").mean(axis=0)\n",
    "test[\"YOJ\"].replace(np.nan, avg_YOJ, inplace=True)\n",
    "\n",
    "# replacing INCOME missing values with the mean of the column\n",
    "\n",
    "avg_INCOME = test[\"INCOME\"].astype(\"float\").mean(axis=0)\n",
    "test[\"INCOME\"].replace(np.nan, avg_INCOME, inplace=True)\n",
    "\n",
    "# replacing HOME_VAL missing values with the mean of the column\n",
    "\n",
    "avg_HOME_VAL = test[\"HOME_VAL\"].astype(\"float\").mean(axis=0)\n",
    "test[\"HOME_VAL\"].replace(np.nan, avg_HOME_VAL, inplace=True)\n",
    "\n",
    "# replacing CAR_AGE missing values with the mean of the column\n",
    "\n",
    "avg_CAR_AGE = test[\"CAR_AGE\"].astype(\"float\").mean(axis=0)\n",
    "test[\"CAR_AGE\"].replace(np.nan, avg_CAR_AGE, inplace=True)\n",
    "\n",
    "\n",
    "\n",
    "# replacing AGE missing values with the mean of the column\n",
    "\n",
    "avg_AGE = test[\"AGE\"].astype(\"float\").mean(axis=0)\n",
    "test[\"AGE\"].replace(np.nan, avg_AGE, inplace=True)\n",
    "\n"
   ]
  },
  {
   "cell_type": "code",
   "execution_count": 23,
   "id": "a75210b6",
   "metadata": {},
   "outputs": [
    {
     "data": {
      "text/plain": [
       "INDEX             0\n",
       "TARGET_FLAG    2141\n",
       "TARGET_AMT     2141\n",
       "KIDSDRIV          0\n",
       "AGE               0\n",
       "HOMEKIDS          0\n",
       "YOJ               0\n",
       "INCOME            0\n",
       "PARENT1           0\n",
       "HOME_VAL          0\n",
       "MSTATUS           0\n",
       "SEX               0\n",
       "EDUCATION         0\n",
       "JOB             139\n",
       "TRAVTIME          0\n",
       "CAR_USE           0\n",
       "BLUEBOOK          0\n",
       "TIF               0\n",
       "CAR_TYPE          0\n",
       "RED_CAR           0\n",
       "OLDCLAIM          0\n",
       "CLM_FREQ          0\n",
       "REVOKED           0\n",
       "MVR_PTS           0\n",
       "CAR_AGE           0\n",
       "URBANICITY        0\n",
       "dtype: int64"
      ]
     },
     "execution_count": 23,
     "metadata": {},
     "output_type": "execute_result"
    }
   ],
   "source": [
    "test.isnull().sum()"
   ]
  },
  {
   "cell_type": "markdown",
   "id": "10100243",
   "metadata": {},
   "source": [
    " => We still have missing vallues in the JOB column when dealing with categorical variables"
   ]
  },
  {
   "cell_type": "markdown",
   "id": "dabe4a60",
   "metadata": {},
   "source": [
    "Our target variable is TARGET_FLAG : \n",
    "\n",
    "The test instructions did not contain a detailed description of the database. In my opinion,TARGET_FLAG indicates whether the policyholder has a claim or not. It is a binary variable. The TARGET_AMT variable indicates the amount of the corresponding claim. Here, we are only interested in the TARGET_FLAG variable. We will try to predict whether the insurer will have a claim or not."
   ]
  },
  {
   "cell_type": "markdown",
   "id": "4291437d",
   "metadata": {},
   "source": [
    "We can delete the column TARGET_AMT from our dataset\n",
    "\n"
   ]
  },
  {
   "cell_type": "code",
   "execution_count": 24,
   "id": "49ea19c2",
   "metadata": {},
   "outputs": [],
   "source": [
    "df_train=train.drop(columns='TARGET_AMT')"
   ]
  },
  {
   "cell_type": "markdown",
   "id": "3aa29f58",
   "metadata": {},
   "source": [
    "## 3. The target variable"
   ]
  },
  {
   "cell_type": "code",
   "execution_count": 25,
   "id": "1f70dbb9",
   "metadata": {},
   "outputs": [
    {
     "data": {
      "text/plain": [
       "0    6008\n",
       "1    2153\n",
       "Name: TARGET_FLAG, dtype: int64"
      ]
     },
     "execution_count": 25,
     "metadata": {},
     "output_type": "execute_result"
    }
   ],
   "source": [
    "df_train[\"TARGET_FLAG\"].value_counts()"
   ]
  },
  {
   "cell_type": "code",
   "execution_count": 26,
   "id": "1200a0a4",
   "metadata": {},
   "outputs": [
    {
     "data": {
      "text/plain": [
       "(8161, 25)"
      ]
     },
     "execution_count": 26,
     "metadata": {},
     "output_type": "execute_result"
    }
   ],
   "source": [
    "df_train.shape"
   ]
  },
  {
   "cell_type": "code",
   "execution_count": 27,
   "id": "86c2a5e1",
   "metadata": {},
   "outputs": [
    {
     "name": "stdout",
     "output_type": "stream",
     "text": [
      "percentage of no ploicyholders with a claim 73.61842911407915\n",
      "percentage of policyholders without a claim 26.38157088592084\n"
     ]
    }
   ],
   "source": [
    "count_no_claim = len(df_train[df_train[\"TARGET_FLAG\"]==0])\n",
    "count_claim = len(df_train[df_train[\"TARGET_FLAG\"]==1])\n",
    "pct_of_no_claim = count_no_claim/(count_no_claim+count_claim)\n",
    "print(\"percentage of no ploicyholders with a claim\", pct_of_no_claim*100)\n",
    "pct_of_claim = count_claim/(count_no_claim+count_claim)\n",
    "print(\"percentage of policyholders without a claim\", pct_of_claim*100)"
   ]
  },
  {
   "cell_type": "code",
   "execution_count": 28,
   "id": "76085697",
   "metadata": {},
   "outputs": [
    {
     "data": {
      "image/png": "[encoded data removed]",
      "text/plain": [
       "<Figure size 432x288 with 1 Axes>"
      ]
     },
     "metadata": {},
     "output_type": "display_data"
    }
   ],
   "source": [
    "#TARGET_FLAG\n",
    "colors = ['#4D3425','#E4512B']\n",
    "ax = (df_train['TARGET_FLAG'].value_counts()*100.0 /len(train)).plot(kind='bar',stacked = True,rot = 0,color = colors)\n",
    "ax.yaxis.set_major_formatter(mtick.PercentFormatter())\n",
    "\n",
    "\n",
    "ax.set_title('TARGET_FLAG')\n",
    "totals = []\n",
    "for i in ax.patches:\n",
    "    totals.append(i.get_width())\n",
    "\n",
    "total = sum(totals)\n",
    "for i in ax.patches:\n",
    "    # get_width pulls left or right; get_y pushes up or down\n",
    "    ax.text(i.get_x()+.15, i.get_height()-3.5, \\\n",
    "            str(round((i.get_height()/total), 1))+'%',\n",
    "            fontsize=12,\n",
    "            color='white',\n",
    "           weight = 'bold')"
   ]
  },
  {
   "cell_type": "markdown",
   "id": "7cefb12c",
   "metadata": {},
   "source": [
    "In our dataset 73.5% of policyholders don't have any claim and only 26.5% of them have a claim"
   ]
  },
  {
   "cell_type": "markdown",
   "id": "44aa8917",
   "metadata": {},
   "source": [
    "### Correlation between the target variable and the explicative variables"
   ]
  },
  {
   "cell_type": "code",
   "execution_count": 29,
   "id": "dcc28ed0",
   "metadata": {},
   "outputs": [
    {
     "data": {
      "text/plain": [
       "<AxesSubplot:>"
      ]
     },
     "execution_count": 29,
     "metadata": {},
     "output_type": "execute_result"
    },
    {
     "data": {
      "image/png": "[encoded data removed]",
      "text/plain": [
       "<Figure size 1440x576 with 2 Axes>"
      ]
     },
     "metadata": {},
     "output_type": "display_data"
    }
   ],
   "source": [
    "c=df_train.corr()\n",
    "plt.figure(figsize=(20,8))\n",
    "sns.heatmap(c,annot=True)"
   ]
  },
  {
   "cell_type": "code",
   "execution_count": 30,
   "id": "4a5a166a",
   "metadata": {},
   "outputs": [
    {
     "data": {
      "text/plain": [
       "<AxesSubplot:>"
      ]
     },
     "execution_count": 30,
     "metadata": {},
     "output_type": "execute_result"
    },
    {
     "data": {
      "image/png": "[encoded data removed]",
      "text/plain": [
       "<Figure size 1080x576 with 1 Axes>"
      ]
     },
     "metadata": {},
     "output_type": "display_data"
    }
   ],
   "source": [
    "#Histogram of Correlation of TARGET_FLAG with other variables:\n",
    "plt.figure(figsize=(15,8))\n",
    "df_train.corr()['TARGET_FLAG'].sort_values(ascending = False).plot(kind='bar')"
   ]
  },
  {
   "cell_type": "markdown",
   "id": "0e6f720f",
   "metadata": {},
   "source": [
    "The variables most correlated with the targer variable are :  MVR_PTS, CLM_FREQ, PARENT1, REVOKED\n"
   ]
  },
  {
   "cell_type": "markdown",
   "id": "e50e247c",
   "metadata": {},
   "source": [
    "We will study now the relationship between our target  variable the categorical explicative variables"
   ]
  },
  {
   "cell_type": "code",
   "execution_count": 31,
   "id": "5d7ee620",
   "metadata": {},
   "outputs": [
    {
     "data": {
      "text/plain": [
       "Text(0, 0.5, 'TARGET_FLAG')"
      ]
     },
     "execution_count": 31,
     "metadata": {},
     "output_type": "execute_result"
    },
    {
     "data": {
      "image/png": "[encoded data removed]",
      "text/plain": [
       "<Figure size 432x288 with 1 Axes>"
      ]
     },
     "metadata": {},
     "output_type": "display_data"
    }
   ],
   "source": [
    "table=pd.crosstab(df_train.EDUCATION,df_train.TARGET_FLAG)\n",
    "table.div(table.sum(1).astype(float), axis=0).plot(kind='bar', stacked=True)\n",
    "plt.title('Claim occurence depending on education level')\n",
    "plt.xlabel('EDUCATION LEVEL')\n",
    "plt.ylabel('TARGET_FLAG')\n"
   ]
  },
  {
   "cell_type": "markdown",
   "id": "d3d68d99",
   "metadata": {},
   "source": [
    "The variable EDUCATION seems to be a good predictor of the TARGET_FLAG"
   ]
  },
  {
   "cell_type": "code",
   "execution_count": 32,
   "id": "bcadae01",
   "metadata": {},
   "outputs": [
    {
     "data": {
      "text/plain": [
       "Text(0, 0.5, 'TARGET_FLAG')"
      ]
     },
     "execution_count": 32,
     "metadata": {},
     "output_type": "execute_result"
    },
    {
     "data": {
      "image/png": "[encoded data removed]",
      "text/plain": [
       "<Figure size 432x288 with 1 Axes>"
      ]
     },
     "metadata": {},
     "output_type": "display_data"
    }
   ],
   "source": [
    "table=pd.crosstab(df_train.JOB,df_train.TARGET_FLAG)\n",
    "table.div(table.sum(1).astype(float), axis=0).plot(kind='bar', stacked=True)\n",
    "plt.title('Claim occurence depending on the policyholder’s JOB ')\n",
    "plt.xlabel('JOB')\n",
    "plt.ylabel('TARGET_FLAG')\n"
   ]
  },
  {
   "cell_type": "markdown",
   "id": "6fe2fd35",
   "metadata": {},
   "source": [
    "The variable JOB seems to be a good predictor of the TARGET_FLAG"
   ]
  },
  {
   "cell_type": "code",
   "execution_count": 33,
   "id": "d08e8651",
   "metadata": {},
   "outputs": [
    {
     "data": {
      "text/plain": [
       "Text(0, 0.5, 'TARGET_FLAG')"
      ]
     },
     "execution_count": 33,
     "metadata": {},
     "output_type": "execute_result"
    },
    {
     "data": {
      "image/png": "[encoded data removed]",
      "text/plain": [
       "<Figure size 432x288 with 1 Axes>"
      ]
     },
     "metadata": {},
     "output_type": "display_data"
    }
   ],
   "source": [
    "table=pd.crosstab(df_train.CAR_TYPE,df_train.TARGET_FLAG)\n",
    "table.div(table.sum(1).astype(float), axis=0).plot(kind='bar', stacked=True)\n",
    "plt.title('Claim occurence depending on the policyholder’s CAR_TYPE ')\n",
    "plt.xlabel('CAR_TYPE')\n",
    "plt.ylabel('TARGET_FLAG')\n"
   ]
  },
  {
   "cell_type": "markdown",
   "id": "9dd64f76",
   "metadata": {},
   "source": [
    "The variable CAR_TYPE  seems to be a good predictor of the TARGET_FLAG"
   ]
  },
  {
   "cell_type": "code",
   "execution_count": 34,
   "id": "a8fd6c9b",
   "metadata": {},
   "outputs": [
    {
     "data": {
      "text/plain": [
       "Text(0, 0.5, 'TARGET_FLAG')"
      ]
     },
     "execution_count": 34,
     "metadata": {},
     "output_type": "execute_result"
    },
    {
     "data": {
      "image/png": "[encoded data removed]",
      "text/plain": [
       "<Figure size 432x288 with 1 Axes>"
      ]
     },
     "metadata": {},
     "output_type": "display_data"
    }
   ],
   "source": [
    "table=pd.crosstab(df_train.URBANICITY,df_train.TARGET_FLAG)\n",
    "table.div(table.sum(1).astype(float), axis=0).plot(kind='bar', stacked=True)\n",
    "plt.title('Claim occurence depending on the policyholder’s URBANICITY ')\n",
    "plt.xlabel('URBANICITY')\n",
    "plt.ylabel('TARGET_FLAG')\n"
   ]
  },
  {
   "cell_type": "markdown",
   "id": "aa9fce10",
   "metadata": {},
   "source": [
    "The variable URBANICITY seems to be a good predictor of the TARGET_FLAG"
   ]
  },
  {
   "cell_type": "code",
   "execution_count": 35,
   "id": "0f5e29e8",
   "metadata": {},
   "outputs": [
    {
     "data": {
      "text/plain": [
       "Text(0, 0.5, 'TARGET_FLAG')"
      ]
     },
     "execution_count": 35,
     "metadata": {},
     "output_type": "execute_result"
    },
    {
     "data": {
      "image/png": "[encoded data removed]",
      "text/plain": [
       "<Figure size 432x288 with 1 Axes>"
      ]
     },
     "metadata": {},
     "output_type": "display_data"
    }
   ],
   "source": [
    "table=pd.crosstab(df_train.CAR_USE,df_train.TARGET_FLAG)\n",
    "table.div(table.sum(1).astype(float), axis=0).plot(kind='bar', stacked=True)\n",
    "plt.title('Claim occurence depending on the policyholder’s CAR_USE ')\n",
    "plt.xlabel('CAR_USE')\n",
    "plt.ylabel('TARGET_FLAG')\n"
   ]
  },
  {
   "cell_type": "markdown",
   "id": "ab1be08a",
   "metadata": {},
   "source": [
    "The variable CAR_USE seems to be a good predictor of the TARGET_FLAG"
   ]
  },
  {
   "cell_type": "code",
   "execution_count": 36,
   "id": "54354014",
   "metadata": {},
   "outputs": [],
   "source": [
    "#converting the categorical variables to be used properly in the logit regression\n",
    "df_train = pd.get_dummies(df_train, prefix='', prefix_sep='', \n",
    "                            columns=['JOB','CAR_TYPE','EDUCATION','CAR_USE','URBANICITY'])"
   ]
  },
  {
   "cell_type": "code",
   "execution_count": 37,
   "id": "29a8f466",
   "metadata": {},
   "outputs": [],
   "source": [
    "test = pd.get_dummies(test, prefix='', prefix_sep='', \n",
    "                            columns=['JOB','CAR_TYPE','EDUCATION','CAR_USE','URBANICITY'])"
   ]
  },
  {
   "cell_type": "code",
   "execution_count": 38,
   "id": "b5dcaff4",
   "metadata": {},
   "outputs": [
    {
     "data": {
      "text/plain": [
       "Index(['INDEX', 'TARGET_FLAG', 'KIDSDRIV', 'AGE', 'HOMEKIDS', 'YOJ', 'INCOME',\n",
       "       'PARENT1', 'HOME_VAL', 'MSTATUS', 'SEX', 'TRAVTIME', 'BLUEBOOK', 'TIF',\n",
       "       'RED_CAR', 'OLDCLAIM', 'CLM_FREQ', 'REVOKED', 'MVR_PTS', 'CAR_AGE',\n",
       "       'Blue Collar', 'Clerical', 'Doctor', 'Home Maker', 'Lawyer', 'Manager',\n",
       "       'Professional', 'Student', 'Minivan', 'Panel Truck', 'Pickup', 'SUV',\n",
       "       'Sports Car', 'Van', '<High School', 'Bachelors', 'High School',\n",
       "       'Masters', 'PhD', 'Commercial', 'Private', 'Highly Rural/ Rural',\n",
       "       'Highly Urban/ Urban'],\n",
       "      dtype='object')"
      ]
     },
     "execution_count": 38,
     "metadata": {},
     "output_type": "execute_result"
    }
   ],
   "source": [
    "df_train.columns"
   ]
  },
  {
   "cell_type": "code",
   "execution_count": 39,
   "id": "769971b1",
   "metadata": {},
   "outputs": [
    {
     "data": {
      "text/plain": [
       "Index(['INDEX', 'TARGET_FLAG', 'TARGET_AMT', 'KIDSDRIV', 'AGE', 'HOMEKIDS',\n",
       "       'YOJ', 'INCOME', 'PARENT1', 'HOME_VAL', 'MSTATUS', 'SEX', 'TRAVTIME',\n",
       "       'BLUEBOOK', 'TIF', 'RED_CAR', 'OLDCLAIM', 'CLM_FREQ', 'REVOKED',\n",
       "       'MVR_PTS', 'CAR_AGE', 'Blue Collar', 'Clerical', 'Doctor', 'Home Maker',\n",
       "       'Lawyer', 'Manager', 'Professional', 'Student', 'Minivan',\n",
       "       'Panel Truck', 'Pickup', 'SUV', 'Sports Car', 'Van', '<High School',\n",
       "       'Bachelors', 'High School', 'Masters', 'PhD', 'Commercial', 'Private',\n",
       "       'Highly Rural/ Rural', 'Highly Urban/ Urban'],\n",
       "      dtype='object')"
      ]
     },
     "execution_count": 39,
     "metadata": {},
     "output_type": "execute_result"
    }
   ],
   "source": [
    "test.columns"
   ]
  },
  {
   "cell_type": "code",
   "execution_count": 40,
   "id": "4d2ec5a8",
   "metadata": {},
   "outputs": [
    {
     "data": {
      "text/plain": [
       "INDEX                  0\n",
       "TARGET_FLAG            0\n",
       "KIDSDRIV               0\n",
       "AGE                    0\n",
       "HOMEKIDS               0\n",
       "YOJ                    0\n",
       "INCOME                 0\n",
       "PARENT1                0\n",
       "HOME_VAL               0\n",
       "MSTATUS                0\n",
       "SEX                    0\n",
       "TRAVTIME               0\n",
       "BLUEBOOK               0\n",
       "TIF                    0\n",
       "RED_CAR                0\n",
       "OLDCLAIM               0\n",
       "CLM_FREQ               0\n",
       "REVOKED                0\n",
       "MVR_PTS                0\n",
       "CAR_AGE                0\n",
       "Blue Collar            0\n",
       "Clerical               0\n",
       "Doctor                 0\n",
       "Home Maker             0\n",
       "Lawyer                 0\n",
       "Manager                0\n",
       "Professional           0\n",
       "Student                0\n",
       "Minivan                0\n",
       "Panel Truck            0\n",
       "Pickup                 0\n",
       "SUV                    0\n",
       "Sports Car             0\n",
       "Van                    0\n",
       "<High School           0\n",
       "Bachelors              0\n",
       "High School            0\n",
       "Masters                0\n",
       "PhD                    0\n",
       "Commercial             0\n",
       "Private                0\n",
       "Highly Rural/ Rural    0\n",
       "Highly Urban/ Urban    0\n",
       "dtype: int64"
      ]
     },
     "execution_count": 40,
     "metadata": {},
     "output_type": "execute_result"
    }
   ],
   "source": [
    "#missing values\n",
    "df_train.isnull().sum()"
   ]
  },
  {
   "cell_type": "code",
   "execution_count": 41,
   "id": "fd53bf7a",
   "metadata": {},
   "outputs": [
    {
     "data": {
      "text/plain": [
       "INDEX                     0\n",
       "TARGET_FLAG            2141\n",
       "TARGET_AMT             2141\n",
       "KIDSDRIV                  0\n",
       "AGE                       0\n",
       "HOMEKIDS                  0\n",
       "YOJ                       0\n",
       "INCOME                    0\n",
       "PARENT1                   0\n",
       "HOME_VAL                  0\n",
       "MSTATUS                   0\n",
       "SEX                       0\n",
       "TRAVTIME                  0\n",
       "BLUEBOOK                  0\n",
       "TIF                       0\n",
       "RED_CAR                   0\n",
       "OLDCLAIM                  0\n",
       "CLM_FREQ                  0\n",
       "REVOKED                   0\n",
       "MVR_PTS                   0\n",
       "CAR_AGE                   0\n",
       "Blue Collar               0\n",
       "Clerical                  0\n",
       "Doctor                    0\n",
       "Home Maker                0\n",
       "Lawyer                    0\n",
       "Manager                   0\n",
       "Professional              0\n",
       "Student                   0\n",
       "Minivan                   0\n",
       "Panel Truck               0\n",
       "Pickup                    0\n",
       "SUV                       0\n",
       "Sports Car                0\n",
       "Van                       0\n",
       "<High School              0\n",
       "Bachelors                 0\n",
       "High School               0\n",
       "Masters                   0\n",
       "PhD                       0\n",
       "Commercial                0\n",
       "Private                   0\n",
       "Highly Rural/ Rural       0\n",
       "Highly Urban/ Urban       0\n",
       "dtype: int64"
      ]
     },
     "execution_count": 41,
     "metadata": {},
     "output_type": "execute_result"
    }
   ],
   "source": [
    "test.isnull().sum()"
   ]
  },
  {
   "cell_type": "markdown",
   "id": "508026d5",
   "metadata": {},
   "source": [
    "# III. Prediction of the TARGET_FLAG based on the train dataset"
   ]
  },
  {
   "cell_type": "code",
   "execution_count": 42,
   "id": "a39da5fd",
   "metadata": {},
   "outputs": [],
   "source": [
    "# This vector will be used lately to caculate the Target_Flag of the test dataset as an application of the implemented models\n",
    "X_result=test.drop(columns = ['TARGET_FLAG',\"INDEX\",\"TARGET_AMT\"])"
   ]
  },
  {
   "cell_type": "markdown",
   "id": "6df16523",
   "metadata": {},
   "source": [
    "## 1. Logistic regression"
   ]
  },
  {
   "cell_type": "code",
   "execution_count": 43,
   "id": "ef27c07a",
   "metadata": {},
   "outputs": [],
   "source": [
    "from sklearn.model_selection import train_test_split\n",
    "\n",
    "Y=df_train[\"TARGET_FLAG\"]\n",
    "X=df_train.drop(columns = ['TARGET_FLAG',\"INDEX\"])\n",
    "\n",
    "x_train,x_test,y_train,y_test = train_test_split(X,Y,test_size = 0.25, random_state = 15)"
   ]
  },
  {
   "cell_type": "code",
   "execution_count": 44,
   "id": "09661b7c",
   "metadata": {},
   "outputs": [
    {
     "name": "stderr",
     "output_type": "stream",
     "text": [
      "C:\\Users\\igara\\anaconda3\\lib\\site-packages\\sklearn\\linear_model\\_logistic.py:763: ConvergenceWarning: lbfgs failed to converge (status=1):\n",
      "STOP: TOTAL NO. of ITERATIONS REACHED LIMIT.\n",
      "\n",
      "Increase the number of iterations (max_iter) or scale the data as shown in:\n",
      "    https://scikit-learn.org/stable/modules/preprocessing.html\n",
      "Please also refer to the documentation for alternative solver options:\n",
      "    https://scikit-learn.org/stable/modules/linear_model.html#logistic-regression\n",
      "  n_iter_i = _check_optimize_result(\n"
     ]
    },
    {
     "data": {
      "text/plain": [
       "LogisticRegression(max_iter=1000)"
      ]
     },
     "execution_count": 44,
     "metadata": {},
     "output_type": "execute_result"
    }
   ],
   "source": [
    "from sklearn.linear_model import LogisticRegression\n",
    "from sklearn import metrics\n",
    "\n",
    "\n",
    "logreg = LogisticRegression(max_iter=1000)\n",
    "\n",
    "logreg.fit(X, Y)"
   ]
  },
  {
   "cell_type": "code",
   "execution_count": 45,
   "id": "a99ea1ad",
   "metadata": {},
   "outputs": [],
   "source": [
    "y_pred = logreg.predict(x_test)\n"
   ]
  },
  {
   "cell_type": "code",
   "execution_count": 46,
   "id": "afb15985",
   "metadata": {},
   "outputs": [
    {
     "name": "stdout",
     "output_type": "stream",
     "text": [
      "[0 0 0 ... 0 0 0]\n"
     ]
    }
   ],
   "source": [
    "print(y_pred)"
   ]
  },
  {
   "cell_type": "code",
   "execution_count": 47,
   "id": "7c1557eb",
   "metadata": {},
   "outputs": [
    {
     "data": {
      "text/plain": [
       "-0.036014766590588776"
      ]
     },
     "execution_count": 47,
     "metadata": {},
     "output_type": "execute_result"
    }
   ],
   "source": [
    "# Closeness of the regression line to the observation\n",
    "from sklearn.metrics import r2_score\n",
    "r2_score(y_test,y_pred)"
   ]
  },
  {
   "cell_type": "markdown",
   "id": "4c1804df",
   "metadata": {},
   "source": [
    "r2 indicates the proportion of data points which lie within the line created by the regression equation"
   ]
  },
  {
   "cell_type": "markdown",
   "id": "17a528d1",
   "metadata": {},
   "source": [
    "We have a very low value of r2 ( the perfect value would be 1). Unfortunately, the logit regression model  did not work well for our data"
   ]
  },
  {
   "cell_type": "code",
   "execution_count": 48,
   "id": "7d97642a",
   "metadata": {},
   "outputs": [
    {
     "data": {
      "text/html": [
       "<div>\n",
       "<style scoped>\n",
       "    .dataframe tbody tr th:only-of-type {\n",
       "        vertical-align: middle;\n",
       "    }\n",
       "\n",
       "    .dataframe tbody tr th {\n",
       "        vertical-align: top;\n",
       "    }\n",
       "\n",
       "    .dataframe thead th {\n",
       "        text-align: right;\n",
       "    }\n",
       "</style>\n",
       "<table border=\"1\" class=\"dataframe\">\n",
       "  <thead>\n",
       "    <tr style=\"text-align: right;\">\n",
       "      <th></th>\n",
       "      <th>Observations</th>\n",
       "      <th>Predictions</th>\n",
       "      <th>Difference</th>\n",
       "    </tr>\n",
       "  </thead>\n",
       "  <tbody>\n",
       "    <tr>\n",
       "      <th>7679</th>\n",
       "      <td>0</td>\n",
       "      <td>0</td>\n",
       "      <td>0</td>\n",
       "    </tr>\n",
       "    <tr>\n",
       "      <th>673</th>\n",
       "      <td>0</td>\n",
       "      <td>0</td>\n",
       "      <td>0</td>\n",
       "    </tr>\n",
       "    <tr>\n",
       "      <th>3011</th>\n",
       "      <td>0</td>\n",
       "      <td>0</td>\n",
       "      <td>0</td>\n",
       "    </tr>\n",
       "    <tr>\n",
       "      <th>6130</th>\n",
       "      <td>0</td>\n",
       "      <td>0</td>\n",
       "      <td>0</td>\n",
       "    </tr>\n",
       "    <tr>\n",
       "      <th>7931</th>\n",
       "      <td>0</td>\n",
       "      <td>0</td>\n",
       "      <td>0</td>\n",
       "    </tr>\n",
       "    <tr>\n",
       "      <th>6628</th>\n",
       "      <td>1</td>\n",
       "      <td>0</td>\n",
       "      <td>1</td>\n",
       "    </tr>\n",
       "    <tr>\n",
       "      <th>5577</th>\n",
       "      <td>0</td>\n",
       "      <td>0</td>\n",
       "      <td>0</td>\n",
       "    </tr>\n",
       "    <tr>\n",
       "      <th>126</th>\n",
       "      <td>0</td>\n",
       "      <td>0</td>\n",
       "      <td>0</td>\n",
       "    </tr>\n",
       "    <tr>\n",
       "      <th>4343</th>\n",
       "      <td>0</td>\n",
       "      <td>0</td>\n",
       "      <td>0</td>\n",
       "    </tr>\n",
       "    <tr>\n",
       "      <th>2356</th>\n",
       "      <td>1</td>\n",
       "      <td>0</td>\n",
       "      <td>1</td>\n",
       "    </tr>\n",
       "    <tr>\n",
       "      <th>3357</th>\n",
       "      <td>0</td>\n",
       "      <td>0</td>\n",
       "      <td>0</td>\n",
       "    </tr>\n",
       "    <tr>\n",
       "      <th>7895</th>\n",
       "      <td>0</td>\n",
       "      <td>0</td>\n",
       "      <td>0</td>\n",
       "    </tr>\n",
       "    <tr>\n",
       "      <th>2300</th>\n",
       "      <td>1</td>\n",
       "      <td>0</td>\n",
       "      <td>1</td>\n",
       "    </tr>\n",
       "    <tr>\n",
       "      <th>2307</th>\n",
       "      <td>0</td>\n",
       "      <td>0</td>\n",
       "      <td>0</td>\n",
       "    </tr>\n",
       "    <tr>\n",
       "      <th>5479</th>\n",
       "      <td>0</td>\n",
       "      <td>0</td>\n",
       "      <td>0</td>\n",
       "    </tr>\n",
       "    <tr>\n",
       "      <th>7668</th>\n",
       "      <td>0</td>\n",
       "      <td>0</td>\n",
       "      <td>0</td>\n",
       "    </tr>\n",
       "    <tr>\n",
       "      <th>7352</th>\n",
       "      <td>1</td>\n",
       "      <td>1</td>\n",
       "      <td>0</td>\n",
       "    </tr>\n",
       "    <tr>\n",
       "      <th>4708</th>\n",
       "      <td>0</td>\n",
       "      <td>0</td>\n",
       "      <td>0</td>\n",
       "    </tr>\n",
       "    <tr>\n",
       "      <th>5912</th>\n",
       "      <td>0</td>\n",
       "      <td>0</td>\n",
       "      <td>0</td>\n",
       "    </tr>\n",
       "    <tr>\n",
       "      <th>5829</th>\n",
       "      <td>0</td>\n",
       "      <td>0</td>\n",
       "      <td>0</td>\n",
       "    </tr>\n",
       "  </tbody>\n",
       "</table>\n",
       "</div>"
      ],
      "text/plain": [
       "      Observations  Predictions  Difference\n",
       "7679             0            0           0\n",
       "673              0            0           0\n",
       "3011             0            0           0\n",
       "6130             0            0           0\n",
       "7931             0            0           0\n",
       "6628             1            0           1\n",
       "5577             0            0           0\n",
       "126              0            0           0\n",
       "4343             0            0           0\n",
       "2356             1            0           1\n",
       "3357             0            0           0\n",
       "7895             0            0           0\n",
       "2300             1            0           1\n",
       "2307             0            0           0\n",
       "5479             0            0           0\n",
       "7668             0            0           0\n",
       "7352             1            1           0\n",
       "4708             0            0           0\n",
       "5912             0            0           0\n",
       "5829             0            0           0"
      ]
     },
     "execution_count": 48,
     "metadata": {},
     "output_type": "execute_result"
    }
   ],
   "source": [
    "# Data frame of the difference between the observations and the predictions\n",
    "pred_obs_diff=pd.DataFrame({\"Observations\":y_test,\"Predictions\":y_pred,\"Difference\":y_test-y_pred})\n",
    "pred_obs_diff[0:20]"
   ]
  },
  {
   "cell_type": "code",
   "execution_count": 49,
   "id": "121aa23e",
   "metadata": {},
   "outputs": [
    {
     "name": "stdout",
     "output_type": "stream",
     "text": [
      "[[1410  100]\n",
      " [ 307  224]]\n"
     ]
    }
   ],
   "source": [
    "from sklearn.metrics import confusion_matrix\n",
    "confusion_matrix = confusion_matrix(y_test, y_pred)\n",
    "print(confusion_matrix)"
   ]
  },
  {
   "cell_type": "markdown",
   "id": "f17fb72e",
   "metadata": {},
   "source": [
    "Confusion matrix measures the quality of the classification. \n",
    "\n",
    "We have 1410+100 correct predictions and 307+224 incorrect predictions."
   ]
  },
  {
   "cell_type": "code",
   "execution_count": 50,
   "id": "73e8edf6",
   "metadata": {},
   "outputs": [],
   "source": [
    "y_result = logreg.predict(X_result)"
   ]
  },
  {
   "cell_type": "code",
   "execution_count": 51,
   "id": "6a9797ca",
   "metadata": {},
   "outputs": [
    {
     "name": "stdout",
     "output_type": "stream",
     "text": [
      "[0 0 0 ... 0 0 0]\n"
     ]
    }
   ],
   "source": [
    "print(y_result)"
   ]
  },
  {
   "cell_type": "code",
   "execution_count": 52,
   "id": "6a66daa1",
   "metadata": {},
   "outputs": [],
   "source": [
    "test['TARGET_FLAG_logitreg']=y_result"
   ]
  },
  {
   "cell_type": "code",
   "execution_count": 53,
   "id": "f08a6a4b",
   "metadata": {},
   "outputs": [
    {
     "data": {
      "text/html": [
       "<div>\n",
       "<style scoped>\n",
       "    .dataframe tbody tr th:only-of-type {\n",
       "        vertical-align: middle;\n",
       "    }\n",
       "\n",
       "    .dataframe tbody tr th {\n",
       "        vertical-align: top;\n",
       "    }\n",
       "\n",
       "    .dataframe thead th {\n",
       "        text-align: right;\n",
       "    }\n",
       "</style>\n",
       "<table border=\"1\" class=\"dataframe\">\n",
       "  <thead>\n",
       "    <tr style=\"text-align: right;\">\n",
       "      <th></th>\n",
       "      <th>INDEX</th>\n",
       "      <th>TARGET_FLAG</th>\n",
       "      <th>TARGET_AMT</th>\n",
       "      <th>KIDSDRIV</th>\n",
       "      <th>AGE</th>\n",
       "      <th>HOMEKIDS</th>\n",
       "      <th>YOJ</th>\n",
       "      <th>INCOME</th>\n",
       "      <th>PARENT1</th>\n",
       "      <th>HOME_VAL</th>\n",
       "      <th>...</th>\n",
       "      <th>&lt;High School</th>\n",
       "      <th>Bachelors</th>\n",
       "      <th>High School</th>\n",
       "      <th>Masters</th>\n",
       "      <th>PhD</th>\n",
       "      <th>Commercial</th>\n",
       "      <th>Private</th>\n",
       "      <th>Highly Rural/ Rural</th>\n",
       "      <th>Highly Urban/ Urban</th>\n",
       "      <th>TARGET_FLAG_logitreg</th>\n",
       "    </tr>\n",
       "  </thead>\n",
       "  <tbody>\n",
       "    <tr>\n",
       "      <th>0</th>\n",
       "      <td>3</td>\n",
       "      <td>NaN</td>\n",
       "      <td>NaN</td>\n",
       "      <td>0</td>\n",
       "      <td>48.0</td>\n",
       "      <td>0</td>\n",
       "      <td>11.000000</td>\n",
       "      <td>52.881</td>\n",
       "      <td>0</td>\n",
       "      <td>0.0</td>\n",
       "      <td>...</td>\n",
       "      <td>0</td>\n",
       "      <td>1</td>\n",
       "      <td>0</td>\n",
       "      <td>0</td>\n",
       "      <td>0</td>\n",
       "      <td>0</td>\n",
       "      <td>1</td>\n",
       "      <td>0</td>\n",
       "      <td>1</td>\n",
       "      <td>0</td>\n",
       "    </tr>\n",
       "    <tr>\n",
       "      <th>1</th>\n",
       "      <td>9</td>\n",
       "      <td>NaN</td>\n",
       "      <td>NaN</td>\n",
       "      <td>1</td>\n",
       "      <td>40.0</td>\n",
       "      <td>1</td>\n",
       "      <td>11.000000</td>\n",
       "      <td>50.815</td>\n",
       "      <td>1</td>\n",
       "      <td>0.0</td>\n",
       "      <td>...</td>\n",
       "      <td>0</td>\n",
       "      <td>0</td>\n",
       "      <td>1</td>\n",
       "      <td>0</td>\n",
       "      <td>0</td>\n",
       "      <td>0</td>\n",
       "      <td>1</td>\n",
       "      <td>0</td>\n",
       "      <td>1</td>\n",
       "      <td>0</td>\n",
       "    </tr>\n",
       "    <tr>\n",
       "      <th>2</th>\n",
       "      <td>10</td>\n",
       "      <td>NaN</td>\n",
       "      <td>NaN</td>\n",
       "      <td>0</td>\n",
       "      <td>44.0</td>\n",
       "      <td>2</td>\n",
       "      <td>12.000000</td>\n",
       "      <td>43.486</td>\n",
       "      <td>1</td>\n",
       "      <td>0.0</td>\n",
       "      <td>...</td>\n",
       "      <td>0</td>\n",
       "      <td>0</td>\n",
       "      <td>1</td>\n",
       "      <td>0</td>\n",
       "      <td>0</td>\n",
       "      <td>1</td>\n",
       "      <td>0</td>\n",
       "      <td>1</td>\n",
       "      <td>0</td>\n",
       "      <td>0</td>\n",
       "    </tr>\n",
       "    <tr>\n",
       "      <th>3</th>\n",
       "      <td>18</td>\n",
       "      <td>NaN</td>\n",
       "      <td>NaN</td>\n",
       "      <td>0</td>\n",
       "      <td>35.0</td>\n",
       "      <td>2</td>\n",
       "      <td>10.379091</td>\n",
       "      <td>21.204</td>\n",
       "      <td>1</td>\n",
       "      <td>0.0</td>\n",
       "      <td>...</td>\n",
       "      <td>0</td>\n",
       "      <td>0</td>\n",
       "      <td>1</td>\n",
       "      <td>0</td>\n",
       "      <td>0</td>\n",
       "      <td>0</td>\n",
       "      <td>1</td>\n",
       "      <td>1</td>\n",
       "      <td>0</td>\n",
       "      <td>0</td>\n",
       "    </tr>\n",
       "    <tr>\n",
       "      <th>4</th>\n",
       "      <td>21</td>\n",
       "      <td>NaN</td>\n",
       "      <td>NaN</td>\n",
       "      <td>0</td>\n",
       "      <td>59.0</td>\n",
       "      <td>0</td>\n",
       "      <td>12.000000</td>\n",
       "      <td>87.460</td>\n",
       "      <td>0</td>\n",
       "      <td>0.0</td>\n",
       "      <td>...</td>\n",
       "      <td>0</td>\n",
       "      <td>0</td>\n",
       "      <td>1</td>\n",
       "      <td>0</td>\n",
       "      <td>0</td>\n",
       "      <td>0</td>\n",
       "      <td>1</td>\n",
       "      <td>0</td>\n",
       "      <td>1</td>\n",
       "      <td>0</td>\n",
       "    </tr>\n",
       "  </tbody>\n",
       "</table>\n",
       "<p>5 rows × 45 columns</p>\n",
       "</div>"
      ],
      "text/plain": [
       "   INDEX  TARGET_FLAG  TARGET_AMT  KIDSDRIV   AGE  HOMEKIDS        YOJ  \\\n",
       "0      3          NaN         NaN         0  48.0         0  11.000000   \n",
       "1      9          NaN         NaN         1  40.0         1  11.000000   \n",
       "2     10          NaN         NaN         0  44.0         2  12.000000   \n",
       "3     18          NaN         NaN         0  35.0         2  10.379091   \n",
       "4     21          NaN         NaN         0  59.0         0  12.000000   \n",
       "\n",
       "   INCOME  PARENT1  HOME_VAL  ...  <High School  Bachelors  High School  \\\n",
       "0  52.881        0       0.0  ...             0          1            0   \n",
       "1  50.815        1       0.0  ...             0          0            1   \n",
       "2  43.486        1       0.0  ...             0          0            1   \n",
       "3  21.204        1       0.0  ...             0          0            1   \n",
       "4  87.460        0       0.0  ...             0          0            1   \n",
       "\n",
       "   Masters  PhD  Commercial  Private  Highly Rural/ Rural  \\\n",
       "0        0    0           0        1                    0   \n",
       "1        0    0           0        1                    0   \n",
       "2        0    0           1        0                    1   \n",
       "3        0    0           0        1                    1   \n",
       "4        0    0           0        1                    0   \n",
       "\n",
       "   Highly Urban/ Urban  TARGET_FLAG_logitreg  \n",
       "0                    1                     0  \n",
       "1                    1                     0  \n",
       "2                    0                     0  \n",
       "3                    0                     0  \n",
       "4                    1                     0  \n",
       "\n",
       "[5 rows x 45 columns]"
      ]
     },
     "execution_count": 53,
     "metadata": {},
     "output_type": "execute_result"
    }
   ],
   "source": [
    "test.head()"
   ]
  },
  {
   "cell_type": "code",
   "execution_count": 54,
   "id": "a44633b2",
   "metadata": {},
   "outputs": [
    {
     "data": {
      "text/html": [
       "<div>\n",
       "<style scoped>\n",
       "    .dataframe tbody tr th:only-of-type {\n",
       "        vertical-align: middle;\n",
       "    }\n",
       "\n",
       "    .dataframe tbody tr th {\n",
       "        vertical-align: top;\n",
       "    }\n",
       "\n",
       "    .dataframe thead th {\n",
       "        text-align: right;\n",
       "    }\n",
       "</style>\n",
       "<table border=\"1\" class=\"dataframe\">\n",
       "  <thead>\n",
       "    <tr style=\"text-align: right;\">\n",
       "      <th></th>\n",
       "      <th>INDEX</th>\n",
       "      <th>TARGET_FLAG</th>\n",
       "      <th>TARGET_AMT</th>\n",
       "      <th>KIDSDRIV</th>\n",
       "      <th>AGE</th>\n",
       "      <th>HOMEKIDS</th>\n",
       "      <th>YOJ</th>\n",
       "      <th>INCOME</th>\n",
       "      <th>PARENT1</th>\n",
       "      <th>HOME_VAL</th>\n",
       "      <th>...</th>\n",
       "      <th>Van</th>\n",
       "      <th>&lt;High School</th>\n",
       "      <th>Bachelors</th>\n",
       "      <th>High School</th>\n",
       "      <th>Masters</th>\n",
       "      <th>PhD</th>\n",
       "      <th>Commercial</th>\n",
       "      <th>Private</th>\n",
       "      <th>Highly Rural/ Rural</th>\n",
       "      <th>Highly Urban/ Urban</th>\n",
       "    </tr>\n",
       "    <tr>\n",
       "      <th>TARGET_FLAG_logitreg</th>\n",
       "      <th></th>\n",
       "      <th></th>\n",
       "      <th></th>\n",
       "      <th></th>\n",
       "      <th></th>\n",
       "      <th></th>\n",
       "      <th></th>\n",
       "      <th></th>\n",
       "      <th></th>\n",
       "      <th></th>\n",
       "      <th></th>\n",
       "      <th></th>\n",
       "      <th></th>\n",
       "      <th></th>\n",
       "      <th></th>\n",
       "      <th></th>\n",
       "      <th></th>\n",
       "      <th></th>\n",
       "      <th></th>\n",
       "      <th></th>\n",
       "      <th></th>\n",
       "    </tr>\n",
       "  </thead>\n",
       "  <tbody>\n",
       "    <tr>\n",
       "      <th>0</th>\n",
       "      <td>5204.245230</td>\n",
       "      <td>NaN</td>\n",
       "      <td>NaN</td>\n",
       "      <td>0.125701</td>\n",
       "      <td>45.846250</td>\n",
       "      <td>0.603255</td>\n",
       "      <td>10.600148</td>\n",
       "      <td>64.772453</td>\n",
       "      <td>0.079686</td>\n",
       "      <td>168.289971</td>\n",
       "      <td>...</td>\n",
       "      <td>0.081930</td>\n",
       "      <td>0.127946</td>\n",
       "      <td>0.287318</td>\n",
       "      <td>0.248597</td>\n",
       "      <td>0.223906</td>\n",
       "      <td>0.112233</td>\n",
       "      <td>0.324355</td>\n",
       "      <td>0.675645</td>\n",
       "      <td>0.225589</td>\n",
       "      <td>0.774411</td>\n",
       "    </tr>\n",
       "    <tr>\n",
       "      <th>1</th>\n",
       "      <td>4881.325905</td>\n",
       "      <td>NaN</td>\n",
       "      <td>NaN</td>\n",
       "      <td>0.345404</td>\n",
       "      <td>40.899721</td>\n",
       "      <td>1.284123</td>\n",
       "      <td>9.281811</td>\n",
       "      <td>39.973235</td>\n",
       "      <td>0.345404</td>\n",
       "      <td>78.401966</td>\n",
       "      <td>...</td>\n",
       "      <td>0.069638</td>\n",
       "      <td>0.233983</td>\n",
       "      <td>0.192201</td>\n",
       "      <td>0.498607</td>\n",
       "      <td>0.058496</td>\n",
       "      <td>0.016713</td>\n",
       "      <td>0.506964</td>\n",
       "      <td>0.493036</td>\n",
       "      <td>0.002786</td>\n",
       "      <td>0.997214</td>\n",
       "    </tr>\n",
       "  </tbody>\n",
       "</table>\n",
       "<p>2 rows × 44 columns</p>\n",
       "</div>"
      ],
      "text/plain": [
       "                            INDEX  TARGET_FLAG  TARGET_AMT  KIDSDRIV  \\\n",
       "TARGET_FLAG_logitreg                                                   \n",
       "0                     5204.245230          NaN         NaN  0.125701   \n",
       "1                     4881.325905          NaN         NaN  0.345404   \n",
       "\n",
       "                            AGE  HOMEKIDS        YOJ     INCOME   PARENT1  \\\n",
       "TARGET_FLAG_logitreg                                                        \n",
       "0                     45.846250  0.603255  10.600148  64.772453  0.079686   \n",
       "1                     40.899721  1.284123   9.281811  39.973235  0.345404   \n",
       "\n",
       "                        HOME_VAL  ...       Van  <High School  Bachelors  \\\n",
       "TARGET_FLAG_logitreg              ...                                      \n",
       "0                     168.289971  ...  0.081930      0.127946   0.287318   \n",
       "1                      78.401966  ...  0.069638      0.233983   0.192201   \n",
       "\n",
       "                      High School   Masters       PhD  Commercial   Private  \\\n",
       "TARGET_FLAG_logitreg                                                          \n",
       "0                        0.248597  0.223906  0.112233    0.324355  0.675645   \n",
       "1                        0.498607  0.058496  0.016713    0.506964  0.493036   \n",
       "\n",
       "                      Highly Rural/ Rural  Highly Urban/ Urban  \n",
       "TARGET_FLAG_logitreg                                            \n",
       "0                                0.225589             0.774411  \n",
       "1                                0.002786             0.997214  \n",
       "\n",
       "[2 rows x 44 columns]"
      ]
     },
     "execution_count": 54,
     "metadata": {},
     "output_type": "execute_result"
    }
   ],
   "source": [
    "test.groupby(\"TARGET_FLAG_logitreg\").mean()"
   ]
  },
  {
   "cell_type": "markdown",
   "id": "ead0fd74",
   "metadata": {},
   "source": [
    "### 2. Random forest classifier"
   ]
  },
  {
   "cell_type": "code",
   "execution_count": 55,
   "id": "334d7a5d",
   "metadata": {},
   "outputs": [
    {
     "name": "stdout",
     "output_type": "stream",
     "text": [
      "Accuracy ::  0.7961783439490446\n",
      "Precision ::  0.7090909090909091\n"
     ]
    },
    {
     "data": {
      "text/plain": [
       "[Text(0.5, 12.5, 'predict'), Text(30.5, 0.5, 'true')]"
      ]
     },
     "execution_count": 55,
     "metadata": {},
     "output_type": "execute_result"
    },
    {
     "data": {
      "image/png": "[encoded data removed]",
      "text/plain": [
       "<Figure size 432x288 with 2 Axes>"
      ]
     },
     "metadata": {},
     "output_type": "display_data"
    }
   ],
   "source": [
    "#Using RandomForestClassifier model\n",
    "from sklearn.ensemble import RandomForestClassifier\n",
    "model = RandomForestClassifier(n_estimators=100,max_depth=1700,random_state=5)\n",
    "model.fit(x_train, y_train)\n",
    "predict = model.predict(x_test)\n",
    "\n",
    "from sklearn import metrics\n",
    "print('Accuracy :: ',metrics.accuracy_score(y_test,predict))\n",
    "print('Precision :: ',metrics.precision_score(y_test,predict))\n",
    "from sklearn.metrics import accuracy_score,confusion_matrix\n",
    "conf_matrix = confusion_matrix(predict,y_test)\n",
    "ax = sns.heatmap(conf_matrix,annot=True)\n",
    "ax.set(xlabel='predict', ylabel='true')"
   ]
  },
  {
   "cell_type": "markdown",
   "id": "b594e41e",
   "metadata": {},
   "source": [
    "Accuracy indiquates how accurate the classification is. \n",
    "\n",
    "For the random forest model the accuracy is 0.7961783439490446 which is not relatively low as a result.\n",
    "\n",
    "Precision is the ratio between the True Positives and all the points that are classified as Positives. The precision of the random forest model is 0.7090909090909091."
   ]
  },
  {
   "cell_type": "code",
   "execution_count": 56,
   "id": "79942eb4",
   "metadata": {},
   "outputs": [
    {
     "name": "stdout",
     "output_type": "stream",
     "text": [
      "[0 0 0 ... 0 0 0]\n"
     ]
    }
   ],
   "source": [
    "print(model.predict(X_result))"
   ]
  },
  {
   "cell_type": "code",
   "execution_count": 57,
   "id": "c014a90d",
   "metadata": {},
   "outputs": [],
   "source": [
    "test[\"TARGET_RandomForest\"]=model.predict(X_result)"
   ]
  },
  {
   "cell_type": "code",
   "execution_count": 58,
   "id": "d294dd08",
   "metadata": {},
   "outputs": [
    {
     "data": {
      "text/html": [
       "<div>\n",
       "<style scoped>\n",
       "    .dataframe tbody tr th:only-of-type {\n",
       "        vertical-align: middle;\n",
       "    }\n",
       "\n",
       "    .dataframe tbody tr th {\n",
       "        vertical-align: top;\n",
       "    }\n",
       "\n",
       "    .dataframe thead th {\n",
       "        text-align: right;\n",
       "    }\n",
       "</style>\n",
       "<table border=\"1\" class=\"dataframe\">\n",
       "  <thead>\n",
       "    <tr style=\"text-align: right;\">\n",
       "      <th></th>\n",
       "      <th>INDEX</th>\n",
       "      <th>TARGET_FLAG</th>\n",
       "      <th>TARGET_AMT</th>\n",
       "      <th>KIDSDRIV</th>\n",
       "      <th>AGE</th>\n",
       "      <th>HOMEKIDS</th>\n",
       "      <th>YOJ</th>\n",
       "      <th>INCOME</th>\n",
       "      <th>PARENT1</th>\n",
       "      <th>HOME_VAL</th>\n",
       "      <th>...</th>\n",
       "      <th>&lt;High School</th>\n",
       "      <th>Bachelors</th>\n",
       "      <th>High School</th>\n",
       "      <th>Masters</th>\n",
       "      <th>PhD</th>\n",
       "      <th>Commercial</th>\n",
       "      <th>Private</th>\n",
       "      <th>Highly Rural/ Rural</th>\n",
       "      <th>Highly Urban/ Urban</th>\n",
       "      <th>TARGET_FLAG_logitreg</th>\n",
       "    </tr>\n",
       "    <tr>\n",
       "      <th>TARGET_RandomForest</th>\n",
       "      <th></th>\n",
       "      <th></th>\n",
       "      <th></th>\n",
       "      <th></th>\n",
       "      <th></th>\n",
       "      <th></th>\n",
       "      <th></th>\n",
       "      <th></th>\n",
       "      <th></th>\n",
       "      <th></th>\n",
       "      <th></th>\n",
       "      <th></th>\n",
       "      <th></th>\n",
       "      <th></th>\n",
       "      <th></th>\n",
       "      <th></th>\n",
       "      <th></th>\n",
       "      <th></th>\n",
       "      <th></th>\n",
       "      <th></th>\n",
       "      <th></th>\n",
       "    </tr>\n",
       "  </thead>\n",
       "  <tbody>\n",
       "    <tr>\n",
       "      <th>0</th>\n",
       "      <td>5175.435242</td>\n",
       "      <td>NaN</td>\n",
       "      <td>NaN</td>\n",
       "      <td>0.148416</td>\n",
       "      <td>45.790439</td>\n",
       "      <td>0.625903</td>\n",
       "      <td>10.682725</td>\n",
       "      <td>64.883686</td>\n",
       "      <td>0.088938</td>\n",
       "      <td>168.760423</td>\n",
       "      <td>...</td>\n",
       "      <td>0.138410</td>\n",
       "      <td>0.27960</td>\n",
       "      <td>0.250139</td>\n",
       "      <td>0.223457</td>\n",
       "      <td>0.108394</td>\n",
       "      <td>0.326292</td>\n",
       "      <td>0.673708</td>\n",
       "      <td>0.222902</td>\n",
       "      <td>0.777098</td>\n",
       "      <td>0.061145</td>\n",
       "    </tr>\n",
       "    <tr>\n",
       "      <th>1</th>\n",
       "      <td>5016.821637</td>\n",
       "      <td>NaN</td>\n",
       "      <td>NaN</td>\n",
       "      <td>0.236842</td>\n",
       "      <td>40.947418</td>\n",
       "      <td>1.198830</td>\n",
       "      <td>8.781906</td>\n",
       "      <td>38.155413</td>\n",
       "      <td>0.309942</td>\n",
       "      <td>71.459162</td>\n",
       "      <td>...</td>\n",
       "      <td>0.184211</td>\n",
       "      <td>0.22807</td>\n",
       "      <td>0.502924</td>\n",
       "      <td>0.052632</td>\n",
       "      <td>0.032164</td>\n",
       "      <td>0.505848</td>\n",
       "      <td>0.494152</td>\n",
       "      <td>0.005848</td>\n",
       "      <td>0.994152</td>\n",
       "      <td>0.728070</td>\n",
       "    </tr>\n",
       "  </tbody>\n",
       "</table>\n",
       "<p>2 rows × 45 columns</p>\n",
       "</div>"
      ],
      "text/plain": [
       "                           INDEX  TARGET_FLAG  TARGET_AMT  KIDSDRIV  \\\n",
       "TARGET_RandomForest                                                   \n",
       "0                    5175.435242          NaN         NaN  0.148416   \n",
       "1                    5016.821637          NaN         NaN  0.236842   \n",
       "\n",
       "                           AGE  HOMEKIDS        YOJ     INCOME   PARENT1  \\\n",
       "TARGET_RandomForest                                                        \n",
       "0                    45.790439  0.625903  10.682725  64.883686  0.088938   \n",
       "1                    40.947418  1.198830   8.781906  38.155413  0.309942   \n",
       "\n",
       "                       HOME_VAL  ...  <High School  Bachelors  High School  \\\n",
       "TARGET_RandomForest              ...                                         \n",
       "0                    168.760423  ...      0.138410    0.27960     0.250139   \n",
       "1                     71.459162  ...      0.184211    0.22807     0.502924   \n",
       "\n",
       "                      Masters       PhD  Commercial   Private  \\\n",
       "TARGET_RandomForest                                             \n",
       "0                    0.223457  0.108394    0.326292  0.673708   \n",
       "1                    0.052632  0.032164    0.505848  0.494152   \n",
       "\n",
       "                     Highly Rural/ Rural  Highly Urban/ Urban  \\\n",
       "TARGET_RandomForest                                             \n",
       "0                               0.222902             0.777098   \n",
       "1                               0.005848             0.994152   \n",
       "\n",
       "                     TARGET_FLAG_logitreg  \n",
       "TARGET_RandomForest                        \n",
       "0                                0.061145  \n",
       "1                                0.728070  \n",
       "\n",
       "[2 rows x 45 columns]"
      ]
     },
     "execution_count": 58,
     "metadata": {},
     "output_type": "execute_result"
    }
   ],
   "source": [
    "test.groupby(\"TARGET_RandomForest\").mean()"
   ]
  },
  {
   "cell_type": "code",
   "execution_count": 60,
   "id": "46950597",
   "metadata": {},
   "outputs": [],
   "source": [
    "#saving the resultats (the predictions of the target variable using the logistic regression model and the random forest model)\n",
    "#two columns contain the results:TARGET_FLAG_logitreg // TARGET_RandomForest\n",
    "test.to_csv(path_or_buf= r\"/Users/igara/OneDrive/Bureau/auto-insurance-fall-2017/test_auto_result.csv\",\n",
    "                 sep= \",\") "
   ]
  }
 ],
 "metadata": {
  "kernelspec": {
   "display_name": "Python 3",
   "language": "python",
   "name": "python3"
  },
  "language_info": {
   "codemirror_mode": {
    "name": "ipython",
    "version": 3
   },
   "file_extension": ".py",
   "mimetype": "text/x-python",
   "name": "python",
   "nbconvert_exporter": "python",
   "pygments_lexer": "ipython3",
   "version": "3.8.8"
  }
 },
 "nbformat": 4,
 "nbformat_minor": 5
}
